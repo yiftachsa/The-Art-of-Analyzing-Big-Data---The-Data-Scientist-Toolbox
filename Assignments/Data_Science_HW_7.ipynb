{
  "nbformat": 4,
  "nbformat_minor": 0,
  "metadata": {
    "accelerator": "GPU",
    "colab": {
      "name": "Data Science - HW_7.ipynb",
      "provenance": [],
      "collapsed_sections": []
    },
    "kernelspec": {
      "display_name": "Python 3",
      "language": "python",
      "name": "python3"
    },
    "language_info": {
      "codemirror_mode": {
        "name": "ipython",
        "version": 3
      },
      "file_extension": ".py",
      "mimetype": "text/x-python",
      "name": "python",
      "nbconvert_exporter": "python",
      "pygments_lexer": "ipython3",
      "version": "3.6.7"
    }
  },
  "cells": [
    {
      "cell_type": "markdown",
      "metadata": {
        "id": "vpM6SFPqDMEe"
      },
      "source": [
        "# Homework Assignment 7"
      ]
    },
    {
      "cell_type": "code",
      "metadata": {
        "colab": {
          "base_uri": "https://localhost:8080/"
        },
        "id": "p58N4CVeyIHV",
        "outputId": "98104dd7-f79b-48bf-ccde-8fbee125d40e"
      },
      "source": [
        "!pip install turicreate\n",
        "!pip install spaCy\n",
        "!python -m spacy download en_core_web_lg"
      ],
      "execution_count": null,
      "outputs": [
        {
          "output_type": "stream",
          "name": "stdout",
          "text": [
            "Requirement already satisfied: turicreate in /usr/local/lib/python3.7/dist-packages (6.4.1)\n",
            "Requirement already satisfied: resampy==0.2.1 in /usr/local/lib/python3.7/dist-packages (from turicreate) (0.2.1)\n",
            "Requirement already satisfied: decorator>=4.0.9 in /usr/local/lib/python3.7/dist-packages (from turicreate) (4.4.2)\n",
            "Requirement already satisfied: numba<0.51.0 in /usr/local/lib/python3.7/dist-packages (from turicreate) (0.50.1)\n",
            "Requirement already satisfied: tensorflow<2.1.0,>=2.0.0 in /usr/local/lib/python3.7/dist-packages (from turicreate) (2.0.4)\n",
            "Requirement already satisfied: coremltools==3.3 in /usr/local/lib/python3.7/dist-packages (from turicreate) (3.3)\n",
            "Requirement already satisfied: pillow>=5.2.0 in /usr/local/lib/python3.7/dist-packages (from turicreate) (7.1.2)\n",
            "Requirement already satisfied: scipy>=1.1.0 in /usr/local/lib/python3.7/dist-packages (from turicreate) (1.4.1)\n",
            "Requirement already satisfied: six>=1.10.0 in /usr/local/lib/python3.7/dist-packages (from turicreate) (1.15.0)\n",
            "Requirement already satisfied: numpy in /usr/local/lib/python3.7/dist-packages (from turicreate) (1.18.5)\n",
            "Requirement already satisfied: requests>=2.9.1 in /usr/local/lib/python3.7/dist-packages (from turicreate) (2.23.0)\n",
            "Requirement already satisfied: pandas>=0.23.2 in /usr/local/lib/python3.7/dist-packages (from turicreate) (1.1.5)\n",
            "Requirement already satisfied: prettytable==0.7.2 in /usr/local/lib/python3.7/dist-packages (from turicreate) (0.7.2)\n",
            "Requirement already satisfied: protobuf>=3.1.0 in /usr/local/lib/python3.7/dist-packages (from coremltools==3.3->turicreate) (3.17.3)\n",
            "Requirement already satisfied: llvmlite<0.34,>=0.33.0.dev0 in /usr/local/lib/python3.7/dist-packages (from numba<0.51.0->turicreate) (0.33.0)\n",
            "Requirement already satisfied: setuptools in /usr/local/lib/python3.7/dist-packages (from numba<0.51.0->turicreate) (57.4.0)\n",
            "Requirement already satisfied: python-dateutil>=2.7.3 in /usr/local/lib/python3.7/dist-packages (from pandas>=0.23.2->turicreate) (2.8.2)\n",
            "Requirement already satisfied: pytz>=2017.2 in /usr/local/lib/python3.7/dist-packages (from pandas>=0.23.2->turicreate) (2018.9)\n",
            "Requirement already satisfied: idna<3,>=2.5 in /usr/local/lib/python3.7/dist-packages (from requests>=2.9.1->turicreate) (2.10)\n",
            "Requirement already satisfied: chardet<4,>=3.0.2 in /usr/local/lib/python3.7/dist-packages (from requests>=2.9.1->turicreate) (3.0.4)\n",
            "Requirement already satisfied: urllib3!=1.25.0,!=1.25.1,<1.26,>=1.21.1 in /usr/local/lib/python3.7/dist-packages (from requests>=2.9.1->turicreate) (1.24.3)\n",
            "Requirement already satisfied: certifi>=2017.4.17 in /usr/local/lib/python3.7/dist-packages (from requests>=2.9.1->turicreate) (2021.10.8)\n",
            "Requirement already satisfied: h5py<=2.10.0 in /usr/local/lib/python3.7/dist-packages (from tensorflow<2.1.0,>=2.0.0->turicreate) (2.10.0)\n",
            "Requirement already satisfied: absl-py>=0.7.0 in /usr/local/lib/python3.7/dist-packages (from tensorflow<2.1.0,>=2.0.0->turicreate) (0.12.0)\n",
            "Requirement already satisfied: gast==0.2.2 in /usr/local/lib/python3.7/dist-packages (from tensorflow<2.1.0,>=2.0.0->turicreate) (0.2.2)\n",
            "Requirement already satisfied: tensorboard<2.1.0,>=2.0.0 in /usr/local/lib/python3.7/dist-packages (from tensorflow<2.1.0,>=2.0.0->turicreate) (2.0.2)\n",
            "Requirement already satisfied: keras-applications>=1.0.8 in /usr/local/lib/python3.7/dist-packages (from tensorflow<2.1.0,>=2.0.0->turicreate) (1.0.8)\n",
            "Requirement already satisfied: grpcio>=1.8.6 in /usr/local/lib/python3.7/dist-packages (from tensorflow<2.1.0,>=2.0.0->turicreate) (1.42.0)\n",
            "Requirement already satisfied: wrapt>=1.11.1 in /usr/local/lib/python3.7/dist-packages (from tensorflow<2.1.0,>=2.0.0->turicreate) (1.13.3)\n",
            "Requirement already satisfied: opt-einsum>=2.3.2 in /usr/local/lib/python3.7/dist-packages (from tensorflow<2.1.0,>=2.0.0->turicreate) (3.3.0)\n",
            "Requirement already satisfied: astor>=0.6.0 in /usr/local/lib/python3.7/dist-packages (from tensorflow<2.1.0,>=2.0.0->turicreate) (0.8.1)\n",
            "Requirement already satisfied: termcolor>=1.1.0 in /usr/local/lib/python3.7/dist-packages (from tensorflow<2.1.0,>=2.0.0->turicreate) (1.1.0)\n",
            "Requirement already satisfied: google-pasta>=0.1.6 in /usr/local/lib/python3.7/dist-packages (from tensorflow<2.1.0,>=2.0.0->turicreate) (0.2.0)\n",
            "Requirement already satisfied: keras-preprocessing>=1.0.5 in /usr/local/lib/python3.7/dist-packages (from tensorflow<2.1.0,>=2.0.0->turicreate) (1.1.2)\n",
            "Requirement already satisfied: tensorflow-estimator<2.1.0,>=2.0.0 in /usr/local/lib/python3.7/dist-packages (from tensorflow<2.1.0,>=2.0.0->turicreate) (2.0.1)\n",
            "Requirement already satisfied: wheel>=0.26 in /usr/local/lib/python3.7/dist-packages (from tensorflow<2.1.0,>=2.0.0->turicreate) (0.37.0)\n",
            "Requirement already satisfied: google-auth<2,>=1.6.3 in /usr/local/lib/python3.7/dist-packages (from tensorboard<2.1.0,>=2.0.0->tensorflow<2.1.0,>=2.0.0->turicreate) (1.35.0)\n",
            "Requirement already satisfied: werkzeug>=0.11.15 in /usr/local/lib/python3.7/dist-packages (from tensorboard<2.1.0,>=2.0.0->tensorflow<2.1.0,>=2.0.0->turicreate) (1.0.1)\n",
            "Requirement already satisfied: google-auth-oauthlib<0.5,>=0.4.1 in /usr/local/lib/python3.7/dist-packages (from tensorboard<2.1.0,>=2.0.0->tensorflow<2.1.0,>=2.0.0->turicreate) (0.4.6)\n",
            "Requirement already satisfied: markdown>=2.6.8 in /usr/local/lib/python3.7/dist-packages (from tensorboard<2.1.0,>=2.0.0->tensorflow<2.1.0,>=2.0.0->turicreate) (3.3.6)\n",
            "Requirement already satisfied: rsa<5,>=3.1.4 in /usr/local/lib/python3.7/dist-packages (from google-auth<2,>=1.6.3->tensorboard<2.1.0,>=2.0.0->tensorflow<2.1.0,>=2.0.0->turicreate) (4.8)\n",
            "Requirement already satisfied: pyasn1-modules>=0.2.1 in /usr/local/lib/python3.7/dist-packages (from google-auth<2,>=1.6.3->tensorboard<2.1.0,>=2.0.0->tensorflow<2.1.0,>=2.0.0->turicreate) (0.2.8)\n",
            "Requirement already satisfied: cachetools<5.0,>=2.0.0 in /usr/local/lib/python3.7/dist-packages (from google-auth<2,>=1.6.3->tensorboard<2.1.0,>=2.0.0->tensorflow<2.1.0,>=2.0.0->turicreate) (4.2.4)\n",
            "Requirement already satisfied: requests-oauthlib>=0.7.0 in /usr/local/lib/python3.7/dist-packages (from google-auth-oauthlib<0.5,>=0.4.1->tensorboard<2.1.0,>=2.0.0->tensorflow<2.1.0,>=2.0.0->turicreate) (1.3.0)\n",
            "Requirement already satisfied: importlib-metadata>=4.4 in /usr/local/lib/python3.7/dist-packages (from markdown>=2.6.8->tensorboard<2.1.0,>=2.0.0->tensorflow<2.1.0,>=2.0.0->turicreate) (4.8.2)\n",
            "Requirement already satisfied: typing-extensions>=3.6.4 in /usr/local/lib/python3.7/dist-packages (from importlib-metadata>=4.4->markdown>=2.6.8->tensorboard<2.1.0,>=2.0.0->tensorflow<2.1.0,>=2.0.0->turicreate) (3.10.0.2)\n",
            "Requirement already satisfied: zipp>=0.5 in /usr/local/lib/python3.7/dist-packages (from importlib-metadata>=4.4->markdown>=2.6.8->tensorboard<2.1.0,>=2.0.0->tensorflow<2.1.0,>=2.0.0->turicreate) (3.6.0)\n",
            "Requirement already satisfied: pyasn1<0.5.0,>=0.4.6 in /usr/local/lib/python3.7/dist-packages (from pyasn1-modules>=0.2.1->google-auth<2,>=1.6.3->tensorboard<2.1.0,>=2.0.0->tensorflow<2.1.0,>=2.0.0->turicreate) (0.4.8)\n",
            "Requirement already satisfied: oauthlib>=3.0.0 in /usr/local/lib/python3.7/dist-packages (from requests-oauthlib>=0.7.0->google-auth-oauthlib<0.5,>=0.4.1->tensorboard<2.1.0,>=2.0.0->tensorflow<2.1.0,>=2.0.0->turicreate) (3.1.1)\n",
            "Requirement already satisfied: spaCy in /usr/local/lib/python3.7/dist-packages (2.2.4)\n",
            "Requirement already satisfied: srsly<1.1.0,>=1.0.2 in /usr/local/lib/python3.7/dist-packages (from spaCy) (1.0.5)\n",
            "Requirement already satisfied: tqdm<5.0.0,>=4.38.0 in /usr/local/lib/python3.7/dist-packages (from spaCy) (4.62.3)\n",
            "Requirement already satisfied: thinc==7.4.0 in /usr/local/lib/python3.7/dist-packages (from spaCy) (7.4.0)\n",
            "Requirement already satisfied: requests<3.0.0,>=2.13.0 in /usr/local/lib/python3.7/dist-packages (from spaCy) (2.23.0)\n",
            "Requirement already satisfied: numpy>=1.15.0 in /usr/local/lib/python3.7/dist-packages (from spaCy) (1.18.5)\n",
            "Requirement already satisfied: murmurhash<1.1.0,>=0.28.0 in /usr/local/lib/python3.7/dist-packages (from spaCy) (1.0.6)\n",
            "Requirement already satisfied: cymem<2.1.0,>=2.0.2 in /usr/local/lib/python3.7/dist-packages (from spaCy) (2.0.6)\n",
            "Requirement already satisfied: catalogue<1.1.0,>=0.0.7 in /usr/local/lib/python3.7/dist-packages (from spaCy) (1.0.0)\n",
            "Requirement already satisfied: blis<0.5.0,>=0.4.0 in /usr/local/lib/python3.7/dist-packages (from spaCy) (0.4.1)\n",
            "Requirement already satisfied: preshed<3.1.0,>=3.0.2 in /usr/local/lib/python3.7/dist-packages (from spaCy) (3.0.6)\n",
            "Requirement already satisfied: wasabi<1.1.0,>=0.4.0 in /usr/local/lib/python3.7/dist-packages (from spaCy) (0.8.2)\n",
            "Requirement already satisfied: plac<1.2.0,>=0.9.6 in /usr/local/lib/python3.7/dist-packages (from spaCy) (1.1.3)\n",
            "Requirement already satisfied: setuptools in /usr/local/lib/python3.7/dist-packages (from spaCy) (57.4.0)\n",
            "Requirement already satisfied: importlib-metadata>=0.20 in /usr/local/lib/python3.7/dist-packages (from catalogue<1.1.0,>=0.0.7->spaCy) (4.8.2)\n",
            "Requirement already satisfied: typing-extensions>=3.6.4 in /usr/local/lib/python3.7/dist-packages (from importlib-metadata>=0.20->catalogue<1.1.0,>=0.0.7->spaCy) (3.10.0.2)\n",
            "Requirement already satisfied: zipp>=0.5 in /usr/local/lib/python3.7/dist-packages (from importlib-metadata>=0.20->catalogue<1.1.0,>=0.0.7->spaCy) (3.6.0)\n",
            "Requirement already satisfied: certifi>=2017.4.17 in /usr/local/lib/python3.7/dist-packages (from requests<3.0.0,>=2.13.0->spaCy) (2021.10.8)\n",
            "Requirement already satisfied: idna<3,>=2.5 in /usr/local/lib/python3.7/dist-packages (from requests<3.0.0,>=2.13.0->spaCy) (2.10)\n",
            "Requirement already satisfied: urllib3!=1.25.0,!=1.25.1,<1.26,>=1.21.1 in /usr/local/lib/python3.7/dist-packages (from requests<3.0.0,>=2.13.0->spaCy) (1.24.3)\n",
            "Requirement already satisfied: chardet<4,>=3.0.2 in /usr/local/lib/python3.7/dist-packages (from requests<3.0.0,>=2.13.0->spaCy) (3.0.4)\n",
            "Collecting en_core_web_lg==2.2.5\n",
            "  Downloading https://github.com/explosion/spacy-models/releases/download/en_core_web_lg-2.2.5/en_core_web_lg-2.2.5.tar.gz (827.9 MB)\n",
            "\u001b[K     |████████████████████████████████| 827.9 MB 544 kB/s \n",
            "\u001b[?25hRequirement already satisfied: spacy>=2.2.2 in /usr/local/lib/python3.7/dist-packages (from en_core_web_lg==2.2.5) (2.2.4)\n",
            "Requirement already satisfied: blis<0.5.0,>=0.4.0 in /usr/local/lib/python3.7/dist-packages (from spacy>=2.2.2->en_core_web_lg==2.2.5) (0.4.1)\n",
            "Requirement already satisfied: requests<3.0.0,>=2.13.0 in /usr/local/lib/python3.7/dist-packages (from spacy>=2.2.2->en_core_web_lg==2.2.5) (2.23.0)\n",
            "Requirement already satisfied: wasabi<1.1.0,>=0.4.0 in /usr/local/lib/python3.7/dist-packages (from spacy>=2.2.2->en_core_web_lg==2.2.5) (0.8.2)\n",
            "Requirement already satisfied: tqdm<5.0.0,>=4.38.0 in /usr/local/lib/python3.7/dist-packages (from spacy>=2.2.2->en_core_web_lg==2.2.5) (4.62.3)\n",
            "Requirement already satisfied: catalogue<1.1.0,>=0.0.7 in /usr/local/lib/python3.7/dist-packages (from spacy>=2.2.2->en_core_web_lg==2.2.5) (1.0.0)\n",
            "Requirement already satisfied: srsly<1.1.0,>=1.0.2 in /usr/local/lib/python3.7/dist-packages (from spacy>=2.2.2->en_core_web_lg==2.2.5) (1.0.5)\n",
            "Requirement already satisfied: thinc==7.4.0 in /usr/local/lib/python3.7/dist-packages (from spacy>=2.2.2->en_core_web_lg==2.2.5) (7.4.0)\n",
            "Requirement already satisfied: plac<1.2.0,>=0.9.6 in /usr/local/lib/python3.7/dist-packages (from spacy>=2.2.2->en_core_web_lg==2.2.5) (1.1.3)\n",
            "Requirement already satisfied: setuptools in /usr/local/lib/python3.7/dist-packages (from spacy>=2.2.2->en_core_web_lg==2.2.5) (57.4.0)\n",
            "Requirement already satisfied: cymem<2.1.0,>=2.0.2 in /usr/local/lib/python3.7/dist-packages (from spacy>=2.2.2->en_core_web_lg==2.2.5) (2.0.6)\n",
            "Requirement already satisfied: murmurhash<1.1.0,>=0.28.0 in /usr/local/lib/python3.7/dist-packages (from spacy>=2.2.2->en_core_web_lg==2.2.5) (1.0.6)\n",
            "Requirement already satisfied: preshed<3.1.0,>=3.0.2 in /usr/local/lib/python3.7/dist-packages (from spacy>=2.2.2->en_core_web_lg==2.2.5) (3.0.6)\n",
            "Requirement already satisfied: numpy>=1.15.0 in /usr/local/lib/python3.7/dist-packages (from spacy>=2.2.2->en_core_web_lg==2.2.5) (1.18.5)\n",
            "Requirement already satisfied: importlib-metadata>=0.20 in /usr/local/lib/python3.7/dist-packages (from catalogue<1.1.0,>=0.0.7->spacy>=2.2.2->en_core_web_lg==2.2.5) (4.8.2)\n",
            "Requirement already satisfied: zipp>=0.5 in /usr/local/lib/python3.7/dist-packages (from importlib-metadata>=0.20->catalogue<1.1.0,>=0.0.7->spacy>=2.2.2->en_core_web_lg==2.2.5) (3.6.0)\n",
            "Requirement already satisfied: typing-extensions>=3.6.4 in /usr/local/lib/python3.7/dist-packages (from importlib-metadata>=0.20->catalogue<1.1.0,>=0.0.7->spacy>=2.2.2->en_core_web_lg==2.2.5) (3.10.0.2)\n",
            "Requirement already satisfied: certifi>=2017.4.17 in /usr/local/lib/python3.7/dist-packages (from requests<3.0.0,>=2.13.0->spacy>=2.2.2->en_core_web_lg==2.2.5) (2021.10.8)\n",
            "Requirement already satisfied: chardet<4,>=3.0.2 in /usr/local/lib/python3.7/dist-packages (from requests<3.0.0,>=2.13.0->spacy>=2.2.2->en_core_web_lg==2.2.5) (3.0.4)\n",
            "Requirement already satisfied: urllib3!=1.25.0,!=1.25.1,<1.26,>=1.21.1 in /usr/local/lib/python3.7/dist-packages (from requests<3.0.0,>=2.13.0->spacy>=2.2.2->en_core_web_lg==2.2.5) (1.24.3)\n",
            "Requirement already satisfied: idna<3,>=2.5 in /usr/local/lib/python3.7/dist-packages (from requests<3.0.0,>=2.13.0->spacy>=2.2.2->en_core_web_lg==2.2.5) (2.10)\n",
            "\u001b[38;5;2m✔ Download and installation successful\u001b[0m\n",
            "You can now load the model via spacy.load('en_core_web_lg')\n"
          ]
        }
      ]
    },
    {
      "cell_type": "code",
      "metadata": {
        "colab": {
          "base_uri": "https://localhost:8080/"
        },
        "id": "22dANg8PxLj-",
        "outputId": "b5d8b6dc-a60e-4e83-f723-969921a30587"
      },
      "source": [
        "import json\n",
        "!mkdir /root/.kaggle/\n",
        "# Installing the Kaggle package\n",
        "!pip install kaggle \n",
        "\n",
        "\n",
        "#!!!fill your api key!!!\n",
        "api_token = {\"username\":\"\",\"key\":\"\"}\n",
        "\n",
        "with open('/root/.kaggle/kaggle.json', 'w') as file:\n",
        "  json.dump(api_token, file)\n",
        "!chmod 600 /root/.kaggle/kaggle.json\n",
        "\n",
        "# Creating a dataset directory\n",
        "!mkdir ./datasets"
      ],
      "execution_count": null,
      "outputs": [
        {
          "output_type": "stream",
          "name": "stdout",
          "text": [
            "Requirement already satisfied: kaggle in /usr/local/lib/python3.7/dist-packages (1.5.12)\n",
            "Requirement already satisfied: python-slugify in /usr/local/lib/python3.7/dist-packages (from kaggle) (5.0.2)\n",
            "Requirement already satisfied: tqdm in /usr/local/lib/python3.7/dist-packages (from kaggle) (4.62.3)\n",
            "Requirement already satisfied: urllib3 in /usr/local/lib/python3.7/dist-packages (from kaggle) (1.24.3)\n",
            "Requirement already satisfied: python-dateutil in /usr/local/lib/python3.7/dist-packages (from kaggle) (2.8.2)\n",
            "Requirement already satisfied: six>=1.10 in /usr/local/lib/python3.7/dist-packages (from kaggle) (1.15.0)\n",
            "Requirement already satisfied: requests in /usr/local/lib/python3.7/dist-packages (from kaggle) (2.23.0)\n",
            "Requirement already satisfied: certifi in /usr/local/lib/python3.7/dist-packages (from kaggle) (2021.10.8)\n",
            "Requirement already satisfied: text-unidecode>=1.3 in /usr/local/lib/python3.7/dist-packages (from python-slugify->kaggle) (1.3)\n",
            "Requirement already satisfied: idna<3,>=2.5 in /usr/local/lib/python3.7/dist-packages (from requests->kaggle) (2.10)\n",
            "Requirement already satisfied: chardet<4,>=3.0.2 in /usr/local/lib/python3.7/dist-packages (from requests->kaggle) (3.0.4)\n"
          ]
        }
      ]
    },
    {
      "cell_type": "markdown",
      "metadata": {
        "id": "Fdve57NuDMEf"
      },
      "source": [
        "**Question 1:** Select two books and construct networks of people and locations, i.e. each link is between a a person and a location (20pt). Visualize the network using Cytoscape or Gephi (20pt).\n"
      ]
    },
    {
      "cell_type": "code",
      "metadata": {
        "id": "n5T-SMZHDMEg",
        "colab": {
          "base_uri": "https://localhost:8080/"
        },
        "outputId": "e0ae8d45-2240-43bc-89bc-1707cee144f0"
      },
      "source": [
        "!mkdir ./datasets/dickens\n",
        "\n",
        "# download the dataset from Kaggle and unzip it\n",
        "!kaggle datasets download fuzzyfroghunter/dickens -p ./datasets/\n",
        "!unzip ./datasets/dickens.zip  -d ./datasets/"
      ],
      "execution_count": null,
      "outputs": [
        {
          "output_type": "stream",
          "name": "stdout",
          "text": [
            "Downloading dickens.zip to ./datasets\n",
            "\r  0% 0.00/9.28M [00:00<?, ?B/s]\r 97% 9.00M/9.28M [00:00<00:00, 88.9MB/s]\n",
            "\r100% 9.28M/9.28M [00:00<00:00, 82.2MB/s]\n",
            "Archive:  ./datasets/dickens.zip\n",
            "  inflating: ./datasets/dickens/1289-0.txt  \n",
            "  inflating: ./datasets/dickens/1400-0.txt  \n",
            "  inflating: ./datasets/dickens/1467-0.txt  \n",
            "  inflating: ./datasets/dickens/27924-0.txt  \n",
            "  inflating: ./datasets/dickens/564-0.txt  \n",
            "  inflating: ./datasets/dickens/580-0.txt  \n",
            "  inflating: ./datasets/dickens/644-0.txt  \n",
            "  inflating: ./datasets/dickens/650-0.txt  \n",
            "  inflating: ./datasets/dickens/653-0.txt  \n",
            "  inflating: ./datasets/dickens/675-0.txt  \n",
            "  inflating: ./datasets/dickens/678-0.txt  \n",
            "  inflating: ./datasets/dickens/700-0.txt  \n",
            "  inflating: ./datasets/dickens/766-0.txt  \n",
            "  inflating: ./datasets/dickens/786-0.txt  \n",
            "  inflating: ./datasets/dickens/807-0.txt  \n",
            "  inflating: ./datasets/dickens/882-0.txt  \n",
            "  inflating: ./datasets/dickens/883-0.txt  \n",
            "  inflating: ./datasets/dickens/914-0.txt  \n",
            "  inflating: ./datasets/dickens/917-0.txt  \n",
            "  inflating: ./datasets/dickens/924-0.txt  \n",
            "  inflating: ./datasets/dickens/963-0.txt  \n",
            "  inflating: ./datasets/dickens/967-0.txt  \n",
            "  inflating: ./datasets/dickens/98-0.txt  \n",
            "  inflating: ./datasets/dickens/metadata.tsv  \n",
            "  inflating: ./datasets/dickens/pg1023.txt  \n",
            "  inflating: ./datasets/dickens/pg1392.txt  \n",
            "  inflating: ./datasets/dickens/pg1407.txt  \n",
            "  inflating: ./datasets/dickens/pg19337.txt  \n",
            "  inflating: ./datasets/dickens/pg23344.txt  \n",
            "  inflating: ./datasets/dickens/pg32241.txt  \n",
            "  inflating: ./datasets/dickens/pg676.txt  \n",
            "  inflating: ./datasets/dickens/pg699.txt  \n",
            "  inflating: ./datasets/dickens/pg730.txt  \n"
          ]
        }
      ]
    },
    {
      "cell_type": "code",
      "metadata": {
        "colab": {
          "base_uri": "https://localhost:8080/"
        },
        "id": "ShWW_EUTOvsF",
        "outputId": "fb1f95b8-3d0f-473f-cd3e-bdbb470b591a"
      },
      "source": [
        "import spacy\n",
        "from tqdm import tqdm\n",
        "from collections import Counter\n",
        "import networkx as nx\n",
        "\n",
        "nlp = spacy.load('en_core_web_lg')\n",
        "\n",
        "txt = open(\"./datasets/dickens/pg730.txt\").read()\n",
        "paragraphs_list = txt.split(\"\\n\\n\")\n",
        "\n",
        "def get_persons_links(txt):\n",
        "    links_set = set()\n",
        "    doc = nlp(txt)\n",
        "    people = [entity.text.lower().strip() for entity in doc.ents if entity.label_ == \"PERSON\"]\n",
        "    locations = [entity.text.lower().strip() for entity in doc.ents if entity.label_ == \"GPE\"]\n",
        "\n",
        "    for person in people:\n",
        "        for location in locations:\n",
        "            if person == location or len(person) < 2 or len(location)< 2:\n",
        "                continue\n",
        "            # if person > location:\n",
        "                # person, location = location, person # switch order\n",
        "            links_set.add((person,location))\n",
        "\n",
        "    return links_set\n",
        "links_list = []    \n",
        "for para in tqdm(paragraphs_list):\n",
        "\n",
        "    # for each paragraph each link counts only once\n",
        "    links_list += list(get_persons_links(para))\n",
        "    \n",
        "\n",
        "c = Counter(links_list)\n",
        "c.most_common(40)"
      ],
      "execution_count": null,
      "outputs": [
        {
          "output_type": "stream",
          "name": "stderr",
          "text": [
            "100%|██████████| 4088/4088 [01:05<00:00, 62.58it/s]\n"
          ]
        },
        {
          "output_type": "execute_result",
          "data": {
            "text/plain": [
              "[(('noah', 'charlotte'), 11),\n",
              " (('oliver', 'london'), 9),\n",
              " (('claypole', 'charlotte'), 5),\n",
              " (('fagin', 'london'), 4),\n",
              " (('sowerberry', 'charlotte'), 4),\n",
              " (('oliver', 'charlotte'), 4),\n",
              " (('oliver', 'pentonville'), 4),\n",
              " (('noah', 'london'), 3),\n",
              " (('bumble', 'london'), 3),\n",
              " (('brownlow', 'london'), 3),\n",
              " (('noah claypole', 'charlotte'), 3),\n",
              " (('grimwig', 'london'), 2),\n",
              " (('nancy', 'london'), 2),\n",
              " (('oliver twist', 'charlotte'), 2),\n",
              " (('bumble', 'sowerberry'), 2),\n",
              " (('oliver', 'barnet'), 2),\n",
              " (('oliver', 'the west indies'), 2),\n",
              " (('mann', 'london'), 2),\n",
              " (('losberne', 'london'), 2),\n",
              " (('brownlow', 'paris'), 2),\n",
              " (('brownlow', 'rome'), 2),\n",
              " (('gutenberg-tm', 'the united states'), 2),\n",
              " (('fang', 'xiv'), 1),\n",
              " (('bumble', 'xxiv'), 1),\n",
              " (('bumble', 'xxii'), 1),\n",
              " (('fagin', 'xxiv'), 1),\n",
              " (('noah claypole', 'unfavourable'), 1),\n",
              " (('li', 'london'), 1),\n",
              " (('fang', 'london'), 1),\n",
              " (('brownlow', 'xxii'), 1),\n",
              " (('xx', 'xxii'), 1),\n",
              " (('nancy', 'xxiv'), 1),\n",
              " (('li', 'xxiv'), 1),\n",
              " (('william sikes', 'xxiv'), 1),\n",
              " (('harry maylie', 'london'), 1),\n",
              " (('fang', 'xxiv'), 1),\n",
              " (('xx', 'london'), 1),\n",
              " (('fang', 'unfavourable'), 1),\n",
              " (('atones', 'xiv'), 1),\n",
              " ((\"oliver twist's\", 'xxiv'), 1)]"
            ]
          },
          "metadata": {},
          "execution_count": 3
        }
      ]
    },
    {
      "cell_type": "code",
      "metadata": {
        "colab": {
          "base_uri": "https://localhost:8080/",
          "height": 607
        },
        "id": "LDm-_HVpStY4",
        "outputId": "cc3d964a-bb23-4bb1-bddf-0cd1aaf4219b"
      },
      "source": [
        "import matplotlib.pyplot as plt\n",
        "%matplotlib inline\n",
        "\n",
        "g = nx.Graph()\n",
        "\n",
        "for e,count in dict(c).items():\n",
        "    if count < 2:\n",
        "        # only links that appeared at least 6 times\n",
        "        continue\n",
        "    person,location = e\n",
        "    g.add_node(person, type=\"person\")\n",
        "    g.add_node(location, type=\"location\")\n",
        "    g.add_edge(person,location, weight=count)\n",
        "color_map = ['c' if node[1][\"type\"] == \"location\" else 'r' for node in g.nodes(data=True)]        \n",
        "plt.figure(figsize=(8,8))\n",
        "nx.draw_spring(g, with_labels=True, node_color=color_map) \n",
        "nx.write_gml(g, \"./datasets/dickens/pg730.gml\")"
      ],
      "execution_count": null,
      "outputs": [
        {
          "output_type": "display_data",
          "data": {
            "image/png": "[encoded data removed]",
            "text/plain": [
              "<Figure size 576x576 with 1 Axes>"
            ]
          },
          "metadata": {}
        }
      ]
    },
    {
      "cell_type": "markdown",
      "metadata": {
        "id": "uRLtbyi7oVQ_"
      },
      "source": [
        "![pg730.png](data:image/png;base64,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)"
      ]
    },
    {
      "cell_type": "code",
      "metadata": {
        "colab": {
          "base_uri": "https://localhost:8080/",
          "height": 625
        },
        "id": "fjvT7EEkj9ks",
        "outputId": "d68d1ca6-8712-48b6-ae5b-3910c1f481c2"
      },
      "source": [
        "txt = open(\"./datasets/dickens/27924-0.txt\").read()\n",
        "paragraphs_list = txt.split(\"\\n\\n\")\n",
        "links_list = []    \n",
        "for para in tqdm(paragraphs_list):\n",
        "\n",
        "    # for each paragraph each link counts only once\n",
        "    links_list += list(get_persons_links(para))\n",
        "c = Counter(links_list)\n",
        "c.most_common(40)\n",
        "\n",
        "g = nx.Graph()\n",
        "\n",
        "for e,count in dict(c).items():\n",
        "    if count < 2:\n",
        "        # only links that appeared at least 6 times\n",
        "        continue\n",
        "    person,location = e\n",
        "    g.add_node(person, type=\"person\")\n",
        "    g.add_node(location, type=\"location\")\n",
        "    g.add_edge(person,location, weight=count)\n",
        "color_map = ['c' if node[1][\"type\"] == \"location\" else 'r' for node in g.nodes(data=True)]        \n",
        "plt.figure(figsize=(8,8))\n",
        "nx.draw_spring(g, with_labels=True, node_color=color_map) \n",
        "nx.write_gml(g, \"./datasets/dickens/27924-0.gml\")"
      ],
      "execution_count": null,
      "outputs": [
        {
          "output_type": "stream",
          "name": "stderr",
          "text": [
            "100%|██████████| 1090/1090 [00:18<00:00, 59.35it/s]\n"
          ]
        },
        {
          "output_type": "display_data",
          "data": {
            "image/png": "[encoded data removed]",
            "text/plain": [
              "<Figure size 576x576 with 1 Axes>"
            ]
          },
          "metadata": {}
        }
      ]
    },
    {
      "cell_type": "markdown",
      "metadata": {
        "id": "eU04WCpYp8NL"
      },
      "source": [
        "![27924-0.gml.png](data:image/png;base64,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)"
      ]
    },
    {
      "cell_type": "markdown",
      "metadata": {
        "id": "tEHVwYACDMEl"
      },
      "source": [
        "**Question 2:** Use the [Friends TV Show Transcript](https://www.kaggle.com/ryanstonebraker/friends-transcript)\n",
        "to create and evaluate a classifier that given a line of text can predict\n",
        " who is the \"friend\" that said it (20pt). Using sentiment analysis identify who are the most and less friendly friends (20pt). Construct a classifier that can be given several text lines (quotes) from a specific episode that will predict the episode's season number (20pt)."
      ]
    },
    {
      "cell_type": "code",
      "metadata": {
        "colab": {
          "base_uri": "https://localhost:8080/"
        },
        "id": "IIh11ESmDMEm",
        "outputId": "16cadd32-547b-43f5-d23e-5e37cad9e5cd"
      },
      "source": [
        "!mkdir ./datasets/friends-transcript\n",
        "\n",
        "# download the dataset from Kaggle and unzip it\n",
        "!kaggle datasets download ryanstonebraker/friends-transcript -f friends_quotes.csv -p ./datasets/friends-transcript/\n",
        "!unzip ./datasets/friends-transcript/*.zip  -d ./datasets/friends-transcript\n",
        "!ls ./datasets/friends-transcript"
      ],
      "execution_count": null,
      "outputs": [
        {
          "output_type": "stream",
          "name": "stdout",
          "text": [
            "Downloading friends_quotes.csv.zip to ./datasets/friends-transcript\n",
            "\r  0% 0.00/1.72M [00:00<?, ?B/s]\n",
            "\r100% 1.72M/1.72M [00:00<00:00, 57.6MB/s]\n",
            "Archive:  ./datasets/friends-transcript/friends_quotes.csv.zip\n",
            "  inflating: ./datasets/friends-transcript/friends_quotes.csv  \n",
            "friends_quotes.csv  friends_quotes.csv.zip\n"
          ]
        }
      ]
    },
    {
      "cell_type": "code",
      "metadata": {
        "colab": {
          "base_uri": "https://localhost:8080/",
          "height": 597
        },
        "id": "PjLZutxtx76x",
        "outputId": "c247db86-bb89-4e81-c192-185bff6e571c"
      },
      "source": [
        "import turicreate as tc\n",
        "import re\n",
        "\n",
        "sf = tc.SFrame.read_csv(\"./datasets/friends-transcript/friends_quotes.csv\")\n",
        "sf.materialize()\n",
        "sf\n",
        "def get_names(names):\n",
        "    names = str(names).lower().strip()\n",
        "    r_signs = re.compile(r\"\\<|\\-|\\\"|\\'|\\.\") \n",
        "    if r_signs.search(names) is not None:\n",
        "      return None\n",
        "    r_and = re.compile(r\"\\sand\\s\")\n",
        "    if r_and.search(names) is None and ',' not in names:\n",
        "        return [names]\n",
        "    l = []\n",
        "    names = names.replace(\",\", \" and \")\n",
        "    l = names.split(\"and\")\n",
        "    r_signs = re.compile(r\"\\<|\\-|\\\"|\\'|\\.\")\n",
        "    return [g.strip() for g in l if len(g)<20 and r_signs.search(g) is None]\n",
        "    \n",
        "sf['authors'] = sf['author'].apply(lambda g: get_names(g))\n",
        "sf = sf[sf['authors'] != None]\n",
        "sf = sf.stack('authors', new_column_name='authors')\n",
        "sf = sf[\"episode_number\",\"episode_title\",\"quote\",\"quote_order\",\"season\",\t\"authors\"]\n",
        "sf = sf.rename({\"authors\": \"author\"})\n",
        "sf"
      ],
      "execution_count": null,
      "outputs": [
        {
          "output_type": "display_data",
          "data": {
            "text/html": [
              "<pre>Finished parsing file /content/datasets/friends-transcript/friends_quotes.csv</pre>"
            ],
            "text/plain": [
              "Finished parsing file /content/datasets/friends-transcript/friends_quotes.csv"
            ]
          },
          "metadata": {}
        },
        {
          "output_type": "display_data",
          "data": {
            "text/html": [
              "<pre>Parsing completed. Parsed 100 lines in 0.267695 secs.</pre>"
            ],
            "text/plain": [
              "Parsing completed. Parsed 100 lines in 0.267695 secs."
            ]
          },
          "metadata": {}
        },
        {
          "output_type": "stream",
          "name": "stdout",
          "text": [
            "------------------------------------------------------\n",
            "Inferred types from first 100 line(s) of file as \n",
            "column_type_hints=[str,float,str,str,float,float]\n",
            "If parsing fails due to incorrect types, you can correct\n",
            "the inferred type list above and pass it to read_csv in\n",
            "the column_type_hints argument\n",
            "------------------------------------------------------\n"
          ]
        },
        {
          "output_type": "display_data",
          "data": {
            "text/html": [
              "<pre>Finished parsing file /content/datasets/friends-transcript/friends_quotes.csv</pre>"
            ],
            "text/plain": [
              "Finished parsing file /content/datasets/friends-transcript/friends_quotes.csv"
            ]
          },
          "metadata": {}
        },
        {
          "output_type": "display_data",
          "data": {
            "text/html": [
              "<pre>Parsing completed. Parsed 60291 lines in 0.167081 secs.</pre>"
            ],
            "text/plain": [
              "Parsing completed. Parsed 60291 lines in 0.167081 secs."
            ]
          },
          "metadata": {}
        },
        {
          "output_type": "execute_result",
          "data": {
            "text/html": [
              "<div style=\"max-height:1000px;max-width:1500px;overflow:auto;\"><table frame=\"box\" rules=\"cols\">\n",
              "    <tr>\n",
              "        <th style=\"padding-left: 1em; padding-right: 1em; text-align: center\">episode_number</th>\n",
              "        <th style=\"padding-left: 1em; padding-right: 1em; text-align: center\">episode_title</th>\n",
              "        <th style=\"padding-left: 1em; padding-right: 1em; text-align: center\">quote</th>\n",
              "        <th style=\"padding-left: 1em; padding-right: 1em; text-align: center\">quote_order</th>\n",
              "        <th style=\"padding-left: 1em; padding-right: 1em; text-align: center\">season</th>\n",
              "        <th style=\"padding-left: 1em; padding-right: 1em; text-align: center\">author</th>\n",
              "    </tr>\n",
              "    <tr>\n",
              "        <td style=\"padding-left: 1em; padding-right: 1em; text-align: center; vertical-align: top\">1.0</td>\n",
              "        <td style=\"padding-left: 1em; padding-right: 1em; text-align: center; vertical-align: top\">Monica Gets A Roommate</td>\n",
              "        <td style=\"padding-left: 1em; padding-right: 1em; text-align: center; vertical-align: top\">There&#x27;s nothing to tell!<br>He&#x27;s just some guy I  ...</td>\n",
              "        <td style=\"padding-left: 1em; padding-right: 1em; text-align: center; vertical-align: top\">0.0</td>\n",
              "        <td style=\"padding-left: 1em; padding-right: 1em; text-align: center; vertical-align: top\">1.0</td>\n",
              "        <td style=\"padding-left: 1em; padding-right: 1em; text-align: center; vertical-align: top\">monica</td>\n",
              "    </tr>\n",
              "    <tr>\n",
              "        <td style=\"padding-left: 1em; padding-right: 1em; text-align: center; vertical-align: top\">1.0</td>\n",
              "        <td style=\"padding-left: 1em; padding-right: 1em; text-align: center; vertical-align: top\">Monica Gets A Roommate</td>\n",
              "        <td style=\"padding-left: 1em; padding-right: 1em; text-align: center; vertical-align: top\">C&#x27;mon, you&#x27;re going out<br>with the guy! There&#x27;s ...</td>\n",
              "        <td style=\"padding-left: 1em; padding-right: 1em; text-align: center; vertical-align: top\">1.0</td>\n",
              "        <td style=\"padding-left: 1em; padding-right: 1em; text-align: center; vertical-align: top\">1.0</td>\n",
              "        <td style=\"padding-left: 1em; padding-right: 1em; text-align: center; vertical-align: top\">joey</td>\n",
              "    </tr>\n",
              "    <tr>\n",
              "        <td style=\"padding-left: 1em; padding-right: 1em; text-align: center; vertical-align: top\">1.0</td>\n",
              "        <td style=\"padding-left: 1em; padding-right: 1em; text-align: center; vertical-align: top\">Monica Gets A Roommate</td>\n",
              "        <td style=\"padding-left: 1em; padding-right: 1em; text-align: center; vertical-align: top\">All right Joey, be nice.<br>So does he have a hum ...</td>\n",
              "        <td style=\"padding-left: 1em; padding-right: 1em; text-align: center; vertical-align: top\">2.0</td>\n",
              "        <td style=\"padding-left: 1em; padding-right: 1em; text-align: center; vertical-align: top\">1.0</td>\n",
              "        <td style=\"padding-left: 1em; padding-right: 1em; text-align: center; vertical-align: top\">chandler</td>\n",
              "    </tr>\n",
              "    <tr>\n",
              "        <td style=\"padding-left: 1em; padding-right: 1em; text-align: center; vertical-align: top\">1.0</td>\n",
              "        <td style=\"padding-left: 1em; padding-right: 1em; text-align: center; vertical-align: top\">Monica Gets A Roommate</td>\n",
              "        <td style=\"padding-left: 1em; padding-right: 1em; text-align: center; vertical-align: top\">Wait, does he eat chalk?</td>\n",
              "        <td style=\"padding-left: 1em; padding-right: 1em; text-align: center; vertical-align: top\">3.0</td>\n",
              "        <td style=\"padding-left: 1em; padding-right: 1em; text-align: center; vertical-align: top\">1.0</td>\n",
              "        <td style=\"padding-left: 1em; padding-right: 1em; text-align: center; vertical-align: top\">phoebe</td>\n",
              "    </tr>\n",
              "    <tr>\n",
              "        <td style=\"padding-left: 1em; padding-right: 1em; text-align: center; vertical-align: top\">1.0</td>\n",
              "        <td style=\"padding-left: 1em; padding-right: 1em; text-align: center; vertical-align: top\">Monica Gets A Roommate</td>\n",
              "        <td style=\"padding-left: 1em; padding-right: 1em; text-align: center; vertical-align: top\">Just, &#x27;cause, I don&#x27;t<br>want her to go through ...</td>\n",
              "        <td style=\"padding-left: 1em; padding-right: 1em; text-align: center; vertical-align: top\">4.0</td>\n",
              "        <td style=\"padding-left: 1em; padding-right: 1em; text-align: center; vertical-align: top\">1.0</td>\n",
              "        <td style=\"padding-left: 1em; padding-right: 1em; text-align: center; vertical-align: top\">phoebe</td>\n",
              "    </tr>\n",
              "    <tr>\n",
              "        <td style=\"padding-left: 1em; padding-right: 1em; text-align: center; vertical-align: top\">1.0</td>\n",
              "        <td style=\"padding-left: 1em; padding-right: 1em; text-align: center; vertical-align: top\">Monica Gets A Roommate</td>\n",
              "        <td style=\"padding-left: 1em; padding-right: 1em; text-align: center; vertical-align: top\">Okay, everybody relax.<br>This is not even a date. ...</td>\n",
              "        <td style=\"padding-left: 1em; padding-right: 1em; text-align: center; vertical-align: top\">5.0</td>\n",
              "        <td style=\"padding-left: 1em; padding-right: 1em; text-align: center; vertical-align: top\">1.0</td>\n",
              "        <td style=\"padding-left: 1em; padding-right: 1em; text-align: center; vertical-align: top\">monica</td>\n",
              "    </tr>\n",
              "    <tr>\n",
              "        <td style=\"padding-left: 1em; padding-right: 1em; text-align: center; vertical-align: top\">1.0</td>\n",
              "        <td style=\"padding-left: 1em; padding-right: 1em; text-align: center; vertical-align: top\">Monica Gets A Roommate</td>\n",
              "        <td style=\"padding-left: 1em; padding-right: 1em; text-align: center; vertical-align: top\">Sounds like a date to me.</td>\n",
              "        <td style=\"padding-left: 1em; padding-right: 1em; text-align: center; vertical-align: top\">6.0</td>\n",
              "        <td style=\"padding-left: 1em; padding-right: 1em; text-align: center; vertical-align: top\">1.0</td>\n",
              "        <td style=\"padding-left: 1em; padding-right: 1em; text-align: center; vertical-align: top\">chandler</td>\n",
              "    </tr>\n",
              "    <tr>\n",
              "        <td style=\"padding-left: 1em; padding-right: 1em; text-align: center; vertical-align: top\">1.0</td>\n",
              "        <td style=\"padding-left: 1em; padding-right: 1em; text-align: center; vertical-align: top\">Monica Gets A Roommate</td>\n",
              "        <td style=\"padding-left: 1em; padding-right: 1em; text-align: center; vertical-align: top\">Alright, so I&#x27;m back in<br>high school, I&#x27;m stan ...</td>\n",
              "        <td style=\"padding-left: 1em; padding-right: 1em; text-align: center; vertical-align: top\">7.0</td>\n",
              "        <td style=\"padding-left: 1em; padding-right: 1em; text-align: center; vertical-align: top\">1.0</td>\n",
              "        <td style=\"padding-left: 1em; padding-right: 1em; text-align: center; vertical-align: top\">chandler</td>\n",
              "    </tr>\n",
              "    <tr>\n",
              "        <td style=\"padding-left: 1em; padding-right: 1em; text-align: center; vertical-align: top\">1.0</td>\n",
              "        <td style=\"padding-left: 1em; padding-right: 1em; text-align: center; vertical-align: top\">Monica Gets A Roommate</td>\n",
              "        <td style=\"padding-left: 1em; padding-right: 1em; text-align: center; vertical-align: top\">Oh, yeah. Had that dream.</td>\n",
              "        <td style=\"padding-left: 1em; padding-right: 1em; text-align: center; vertical-align: top\">8.0</td>\n",
              "        <td style=\"padding-left: 1em; padding-right: 1em; text-align: center; vertical-align: top\">1.0</td>\n",
              "        <td style=\"padding-left: 1em; padding-right: 1em; text-align: center; vertical-align: top\">all</td>\n",
              "    </tr>\n",
              "    <tr>\n",
              "        <td style=\"padding-left: 1em; padding-right: 1em; text-align: center; vertical-align: top\">1.0</td>\n",
              "        <td style=\"padding-left: 1em; padding-right: 1em; text-align: center; vertical-align: top\">Monica Gets A Roommate</td>\n",
              "        <td style=\"padding-left: 1em; padding-right: 1em; text-align: center; vertical-align: top\">Then I look down, and I<br>realize there&#x27;s a ...</td>\n",
              "        <td style=\"padding-left: 1em; padding-right: 1em; text-align: center; vertical-align: top\">9.0</td>\n",
              "        <td style=\"padding-left: 1em; padding-right: 1em; text-align: center; vertical-align: top\">1.0</td>\n",
              "        <td style=\"padding-left: 1em; padding-right: 1em; text-align: center; vertical-align: top\">chandler</td>\n",
              "    </tr>\n",
              "</table>\n",
              "[59487 rows x 6 columns]<br/>Note: Only the head of the SFrame is printed.<br/>You can use print_rows(num_rows=m, num_columns=n) to print more rows and columns.\n",
              "</div>"
            ],
            "text/plain": [
              "Columns:\n",
              "\tepisode_number\tfloat\n",
              "\tepisode_title\tstr\n",
              "\tquote\tstr\n",
              "\tquote_order\tfloat\n",
              "\tseason\tfloat\n",
              "\tauthor\tstr\n",
              "\n",
              "Rows: 59487\n",
              "\n",
              "Data:\n",
              "+----------------+------------------------+-------------------------------+-------------+\n",
              "| episode_number |     episode_title      |             quote             | quote_order |\n",
              "+----------------+------------------------+-------------------------------+-------------+\n",
              "|      1.0       | Monica Gets A Roommate | There's nothing to tell! H... |     0.0     |\n",
              "|      1.0       | Monica Gets A Roommate | C'mon, you're going out wi... |     1.0     |\n",
              "|      1.0       | Monica Gets A Roommate | All right Joey, be nice. S... |     2.0     |\n",
              "|      1.0       | Monica Gets A Roommate |    Wait, does he eat chalk?   |     3.0     |\n",
              "|      1.0       | Monica Gets A Roommate | Just, 'cause, I don't want... |     4.0     |\n",
              "|      1.0       | Monica Gets A Roommate | Okay, everybody relax. Thi... |     5.0     |\n",
              "|      1.0       | Monica Gets A Roommate |   Sounds like a date to me.   |     6.0     |\n",
              "|      1.0       | Monica Gets A Roommate | Alright, so I'm back in hi... |     7.0     |\n",
              "|      1.0       | Monica Gets A Roommate |   Oh, yeah. Had that dream.   |     8.0     |\n",
              "|      1.0       | Monica Gets A Roommate | Then I look down, and I re... |     9.0     |\n",
              "+----------------+------------------------+-------------------------------+-------------+\n",
              "+--------+----------+\n",
              "| season |  author  |\n",
              "+--------+----------+\n",
              "|  1.0   |  monica  |\n",
              "|  1.0   |   joey   |\n",
              "|  1.0   | chandler |\n",
              "|  1.0   |  phoebe  |\n",
              "|  1.0   |  phoebe  |\n",
              "|  1.0   |  monica  |\n",
              "|  1.0   | chandler |\n",
              "|  1.0   | chandler |\n",
              "|  1.0   |   all    |\n",
              "|  1.0   | chandler |\n",
              "+--------+----------+\n",
              "[59487 rows x 6 columns]\n",
              "Note: Only the head of the SFrame is printed.\n",
              "You can use print_rows(num_rows=m, num_columns=n) to print more rows and columns."
            ]
          },
          "metadata": {},
          "execution_count": 7
        }
      ]
    },
    {
      "cell_type": "code",
      "metadata": {
        "colab": {
          "base_uri": "https://localhost:8080/",
          "height": 405
        },
        "id": "qnF4JH8U7pfn",
        "outputId": "f94a1f91-3145-4fe9-97a8-f499e1562b5f"
      },
      "source": [
        "# Filtering to include just the main friends characters\n",
        "friends = [\"phoebe\", \"chandler\", \"joey\", \"rachel\", \"ross\", \"monica\"]\n",
        "sf = sf[sf.apply(lambda g: g[\"author\"] in friends)]\n",
        "sf.materialize()\n",
        "sf"
      ],
      "execution_count": null,
      "outputs": [
        {
          "output_type": "execute_result",
          "data": {
            "text/html": [
              "<div style=\"max-height:1000px;max-width:1500px;overflow:auto;\"><table frame=\"box\" rules=\"cols\">\n",
              "    <tr>\n",
              "        <th style=\"padding-left: 1em; padding-right: 1em; text-align: center\">episode_number</th>\n",
              "        <th style=\"padding-left: 1em; padding-right: 1em; text-align: center\">episode_title</th>\n",
              "        <th style=\"padding-left: 1em; padding-right: 1em; text-align: center\">quote</th>\n",
              "        <th style=\"padding-left: 1em; padding-right: 1em; text-align: center\">quote_order</th>\n",
              "        <th style=\"padding-left: 1em; padding-right: 1em; text-align: center\">season</th>\n",
              "        <th style=\"padding-left: 1em; padding-right: 1em; text-align: center\">author</th>\n",
              "    </tr>\n",
              "    <tr>\n",
              "        <td style=\"padding-left: 1em; padding-right: 1em; text-align: center; vertical-align: top\">1.0</td>\n",
              "        <td style=\"padding-left: 1em; padding-right: 1em; text-align: center; vertical-align: top\">Monica Gets A Roommate</td>\n",
              "        <td style=\"padding-left: 1em; padding-right: 1em; text-align: center; vertical-align: top\">There&#x27;s nothing to tell!<br>He&#x27;s just some guy I  ...</td>\n",
              "        <td style=\"padding-left: 1em; padding-right: 1em; text-align: center; vertical-align: top\">0.0</td>\n",
              "        <td style=\"padding-left: 1em; padding-right: 1em; text-align: center; vertical-align: top\">1.0</td>\n",
              "        <td style=\"padding-left: 1em; padding-right: 1em; text-align: center; vertical-align: top\">monica</td>\n",
              "    </tr>\n",
              "    <tr>\n",
              "        <td style=\"padding-left: 1em; padding-right: 1em; text-align: center; vertical-align: top\">1.0</td>\n",
              "        <td style=\"padding-left: 1em; padding-right: 1em; text-align: center; vertical-align: top\">Monica Gets A Roommate</td>\n",
              "        <td style=\"padding-left: 1em; padding-right: 1em; text-align: center; vertical-align: top\">C&#x27;mon, you&#x27;re going out<br>with the guy! There&#x27;s ...</td>\n",
              "        <td style=\"padding-left: 1em; padding-right: 1em; text-align: center; vertical-align: top\">1.0</td>\n",
              "        <td style=\"padding-left: 1em; padding-right: 1em; text-align: center; vertical-align: top\">1.0</td>\n",
              "        <td style=\"padding-left: 1em; padding-right: 1em; text-align: center; vertical-align: top\">joey</td>\n",
              "    </tr>\n",
              "    <tr>\n",
              "        <td style=\"padding-left: 1em; padding-right: 1em; text-align: center; vertical-align: top\">1.0</td>\n",
              "        <td style=\"padding-left: 1em; padding-right: 1em; text-align: center; vertical-align: top\">Monica Gets A Roommate</td>\n",
              "        <td style=\"padding-left: 1em; padding-right: 1em; text-align: center; vertical-align: top\">All right Joey, be nice.<br>So does he have a hum ...</td>\n",
              "        <td style=\"padding-left: 1em; padding-right: 1em; text-align: center; vertical-align: top\">2.0</td>\n",
              "        <td style=\"padding-left: 1em; padding-right: 1em; text-align: center; vertical-align: top\">1.0</td>\n",
              "        <td style=\"padding-left: 1em; padding-right: 1em; text-align: center; vertical-align: top\">chandler</td>\n",
              "    </tr>\n",
              "    <tr>\n",
              "        <td style=\"padding-left: 1em; padding-right: 1em; text-align: center; vertical-align: top\">1.0</td>\n",
              "        <td style=\"padding-left: 1em; padding-right: 1em; text-align: center; vertical-align: top\">Monica Gets A Roommate</td>\n",
              "        <td style=\"padding-left: 1em; padding-right: 1em; text-align: center; vertical-align: top\">Wait, does he eat chalk?</td>\n",
              "        <td style=\"padding-left: 1em; padding-right: 1em; text-align: center; vertical-align: top\">3.0</td>\n",
              "        <td style=\"padding-left: 1em; padding-right: 1em; text-align: center; vertical-align: top\">1.0</td>\n",
              "        <td style=\"padding-left: 1em; padding-right: 1em; text-align: center; vertical-align: top\">phoebe</td>\n",
              "    </tr>\n",
              "    <tr>\n",
              "        <td style=\"padding-left: 1em; padding-right: 1em; text-align: center; vertical-align: top\">1.0</td>\n",
              "        <td style=\"padding-left: 1em; padding-right: 1em; text-align: center; vertical-align: top\">Monica Gets A Roommate</td>\n",
              "        <td style=\"padding-left: 1em; padding-right: 1em; text-align: center; vertical-align: top\">Just, &#x27;cause, I don&#x27;t<br>want her to go through ...</td>\n",
              "        <td style=\"padding-left: 1em; padding-right: 1em; text-align: center; vertical-align: top\">4.0</td>\n",
              "        <td style=\"padding-left: 1em; padding-right: 1em; text-align: center; vertical-align: top\">1.0</td>\n",
              "        <td style=\"padding-left: 1em; padding-right: 1em; text-align: center; vertical-align: top\">phoebe</td>\n",
              "    </tr>\n",
              "    <tr>\n",
              "        <td style=\"padding-left: 1em; padding-right: 1em; text-align: center; vertical-align: top\">1.0</td>\n",
              "        <td style=\"padding-left: 1em; padding-right: 1em; text-align: center; vertical-align: top\">Monica Gets A Roommate</td>\n",
              "        <td style=\"padding-left: 1em; padding-right: 1em; text-align: center; vertical-align: top\">Okay, everybody relax.<br>This is not even a date. ...</td>\n",
              "        <td style=\"padding-left: 1em; padding-right: 1em; text-align: center; vertical-align: top\">5.0</td>\n",
              "        <td style=\"padding-left: 1em; padding-right: 1em; text-align: center; vertical-align: top\">1.0</td>\n",
              "        <td style=\"padding-left: 1em; padding-right: 1em; text-align: center; vertical-align: top\">monica</td>\n",
              "    </tr>\n",
              "    <tr>\n",
              "        <td style=\"padding-left: 1em; padding-right: 1em; text-align: center; vertical-align: top\">1.0</td>\n",
              "        <td style=\"padding-left: 1em; padding-right: 1em; text-align: center; vertical-align: top\">Monica Gets A Roommate</td>\n",
              "        <td style=\"padding-left: 1em; padding-right: 1em; text-align: center; vertical-align: top\">Sounds like a date to me.</td>\n",
              "        <td style=\"padding-left: 1em; padding-right: 1em; text-align: center; vertical-align: top\">6.0</td>\n",
              "        <td style=\"padding-left: 1em; padding-right: 1em; text-align: center; vertical-align: top\">1.0</td>\n",
              "        <td style=\"padding-left: 1em; padding-right: 1em; text-align: center; vertical-align: top\">chandler</td>\n",
              "    </tr>\n",
              "    <tr>\n",
              "        <td style=\"padding-left: 1em; padding-right: 1em; text-align: center; vertical-align: top\">1.0</td>\n",
              "        <td style=\"padding-left: 1em; padding-right: 1em; text-align: center; vertical-align: top\">Monica Gets A Roommate</td>\n",
              "        <td style=\"padding-left: 1em; padding-right: 1em; text-align: center; vertical-align: top\">Alright, so I&#x27;m back in<br>high school, I&#x27;m stan ...</td>\n",
              "        <td style=\"padding-left: 1em; padding-right: 1em; text-align: center; vertical-align: top\">7.0</td>\n",
              "        <td style=\"padding-left: 1em; padding-right: 1em; text-align: center; vertical-align: top\">1.0</td>\n",
              "        <td style=\"padding-left: 1em; padding-right: 1em; text-align: center; vertical-align: top\">chandler</td>\n",
              "    </tr>\n",
              "    <tr>\n",
              "        <td style=\"padding-left: 1em; padding-right: 1em; text-align: center; vertical-align: top\">1.0</td>\n",
              "        <td style=\"padding-left: 1em; padding-right: 1em; text-align: center; vertical-align: top\">Monica Gets A Roommate</td>\n",
              "        <td style=\"padding-left: 1em; padding-right: 1em; text-align: center; vertical-align: top\">Then I look down, and I<br>realize there&#x27;s a ...</td>\n",
              "        <td style=\"padding-left: 1em; padding-right: 1em; text-align: center; vertical-align: top\">9.0</td>\n",
              "        <td style=\"padding-left: 1em; padding-right: 1em; text-align: center; vertical-align: top\">1.0</td>\n",
              "        <td style=\"padding-left: 1em; padding-right: 1em; text-align: center; vertical-align: top\">chandler</td>\n",
              "    </tr>\n",
              "    <tr>\n",
              "        <td style=\"padding-left: 1em; padding-right: 1em; text-align: center; vertical-align: top\">1.0</td>\n",
              "        <td style=\"padding-left: 1em; padding-right: 1em; text-align: center; vertical-align: top\">Monica Gets A Roommate</td>\n",
              "        <td style=\"padding-left: 1em; padding-right: 1em; text-align: center; vertical-align: top\">Instead of...?</td>\n",
              "        <td style=\"padding-left: 1em; padding-right: 1em; text-align: center; vertical-align: top\">10.0</td>\n",
              "        <td style=\"padding-left: 1em; padding-right: 1em; text-align: center; vertical-align: top\">1.0</td>\n",
              "        <td style=\"padding-left: 1em; padding-right: 1em; text-align: center; vertical-align: top\">joey</td>\n",
              "    </tr>\n",
              "</table>\n",
              "[49796 rows x 6 columns]<br/>Note: Only the head of the SFrame is printed.<br/>You can use print_rows(num_rows=m, num_columns=n) to print more rows and columns.\n",
              "</div>"
            ],
            "text/plain": [
              "Columns:\n",
              "\tepisode_number\tfloat\n",
              "\tepisode_title\tstr\n",
              "\tquote\tstr\n",
              "\tquote_order\tfloat\n",
              "\tseason\tfloat\n",
              "\tauthor\tstr\n",
              "\n",
              "Rows: 49796\n",
              "\n",
              "Data:\n",
              "+----------------+------------------------+-------------------------------+-------------+\n",
              "| episode_number |     episode_title      |             quote             | quote_order |\n",
              "+----------------+------------------------+-------------------------------+-------------+\n",
              "|      1.0       | Monica Gets A Roommate | There's nothing to tell! H... |     0.0     |\n",
              "|      1.0       | Monica Gets A Roommate | C'mon, you're going out wi... |     1.0     |\n",
              "|      1.0       | Monica Gets A Roommate | All right Joey, be nice. S... |     2.0     |\n",
              "|      1.0       | Monica Gets A Roommate |    Wait, does he eat chalk?   |     3.0     |\n",
              "|      1.0       | Monica Gets A Roommate | Just, 'cause, I don't want... |     4.0     |\n",
              "|      1.0       | Monica Gets A Roommate | Okay, everybody relax. Thi... |     5.0     |\n",
              "|      1.0       | Monica Gets A Roommate |   Sounds like a date to me.   |     6.0     |\n",
              "|      1.0       | Monica Gets A Roommate | Alright, so I'm back in hi... |     7.0     |\n",
              "|      1.0       | Monica Gets A Roommate | Then I look down, and I re... |     9.0     |\n",
              "|      1.0       | Monica Gets A Roommate |         Instead of...?        |     10.0    |\n",
              "+----------------+------------------------+-------------------------------+-------------+\n",
              "+--------+----------+\n",
              "| season |  author  |\n",
              "+--------+----------+\n",
              "|  1.0   |  monica  |\n",
              "|  1.0   |   joey   |\n",
              "|  1.0   | chandler |\n",
              "|  1.0   |  phoebe  |\n",
              "|  1.0   |  phoebe  |\n",
              "|  1.0   |  monica  |\n",
              "|  1.0   | chandler |\n",
              "|  1.0   | chandler |\n",
              "|  1.0   | chandler |\n",
              "|  1.0   |   joey   |\n",
              "+--------+----------+\n",
              "[49796 rows x 6 columns]\n",
              "Note: Only the head of the SFrame is printed.\n",
              "You can use print_rows(num_rows=m, num_columns=n) to print more rows and columns."
            ]
          },
          "metadata": {},
          "execution_count": 8
        }
      ]
    },
    {
      "cell_type": "code",
      "metadata": {
        "colab": {
          "base_uri": "https://localhost:8080/",
          "height": 811
        },
        "id": "HRphx7XAKpp0",
        "outputId": "31b74b39-c411-497a-ed34-9288c52e2a5f"
      },
      "source": [
        "from tqdm import tqdm\n",
        "import cupy as cp\n",
        "import numpy as np\n",
        "import spacy\n",
        "spacy.require_gpu()\n",
        "nlp = spacy.load('en_core_web_lg')\n",
        "\n",
        "l = []\n",
        "for i in tqdm(range(len(sf))):\n",
        "    text = sf[i][\"quote\"]\n",
        "    l.append(cp.asnumpy(nlp(text).vector))\n",
        "sf['embedding'] = l \n",
        "sf"
      ],
      "execution_count": null,
      "outputs": [
        {
          "output_type": "stream",
          "name": "stderr",
          "text": [
            "100%|██████████| 49796/49796 [24:30<00:00, 33.87it/s]\n"
          ]
        },
        {
          "output_type": "execute_result",
          "data": {
            "text/html": [
              "<div style=\"max-height:1000px;max-width:1500px;overflow:auto;\"><table frame=\"box\" rules=\"cols\">\n",
              "    <tr>\n",
              "        <th style=\"padding-left: 1em; padding-right: 1em; text-align: center\">episode_number</th>\n",
              "        <th style=\"padding-left: 1em; padding-right: 1em; text-align: center\">episode_title</th>\n",
              "        <th style=\"padding-left: 1em; padding-right: 1em; text-align: center\">quote</th>\n",
              "        <th style=\"padding-left: 1em; padding-right: 1em; text-align: center\">quote_order</th>\n",
              "        <th style=\"padding-left: 1em; padding-right: 1em; text-align: center\">season</th>\n",
              "        <th style=\"padding-left: 1em; padding-right: 1em; text-align: center\">author</th>\n",
              "    </tr>\n",
              "    <tr>\n",
              "        <td style=\"padding-left: 1em; padding-right: 1em; text-align: center; vertical-align: top\">1.0</td>\n",
              "        <td style=\"padding-left: 1em; padding-right: 1em; text-align: center; vertical-align: top\">Monica Gets A Roommate</td>\n",
              "        <td style=\"padding-left: 1em; padding-right: 1em; text-align: center; vertical-align: top\">There&#x27;s nothing to tell!<br>He&#x27;s just some guy I  ...</td>\n",
              "        <td style=\"padding-left: 1em; padding-right: 1em; text-align: center; vertical-align: top\">0.0</td>\n",
              "        <td style=\"padding-left: 1em; padding-right: 1em; text-align: center; vertical-align: top\">1.0</td>\n",
              "        <td style=\"padding-left: 1em; padding-right: 1em; text-align: center; vertical-align: top\">monica</td>\n",
              "    </tr>\n",
              "    <tr>\n",
              "        <td style=\"padding-left: 1em; padding-right: 1em; text-align: center; vertical-align: top\">1.0</td>\n",
              "        <td style=\"padding-left: 1em; padding-right: 1em; text-align: center; vertical-align: top\">Monica Gets A Roommate</td>\n",
              "        <td style=\"padding-left: 1em; padding-right: 1em; text-align: center; vertical-align: top\">C&#x27;mon, you&#x27;re going out<br>with the guy! There&#x27;s ...</td>\n",
              "        <td style=\"padding-left: 1em; padding-right: 1em; text-align: center; vertical-align: top\">1.0</td>\n",
              "        <td style=\"padding-left: 1em; padding-right: 1em; text-align: center; vertical-align: top\">1.0</td>\n",
              "        <td style=\"padding-left: 1em; padding-right: 1em; text-align: center; vertical-align: top\">joey</td>\n",
              "    </tr>\n",
              "    <tr>\n",
              "        <td style=\"padding-left: 1em; padding-right: 1em; text-align: center; vertical-align: top\">1.0</td>\n",
              "        <td style=\"padding-left: 1em; padding-right: 1em; text-align: center; vertical-align: top\">Monica Gets A Roommate</td>\n",
              "        <td style=\"padding-left: 1em; padding-right: 1em; text-align: center; vertical-align: top\">All right Joey, be nice.<br>So does he have a hum ...</td>\n",
              "        <td style=\"padding-left: 1em; padding-right: 1em; text-align: center; vertical-align: top\">2.0</td>\n",
              "        <td style=\"padding-left: 1em; padding-right: 1em; text-align: center; vertical-align: top\">1.0</td>\n",
              "        <td style=\"padding-left: 1em; padding-right: 1em; text-align: center; vertical-align: top\">chandler</td>\n",
              "    </tr>\n",
              "    <tr>\n",
              "        <td style=\"padding-left: 1em; padding-right: 1em; text-align: center; vertical-align: top\">1.0</td>\n",
              "        <td style=\"padding-left: 1em; padding-right: 1em; text-align: center; vertical-align: top\">Monica Gets A Roommate</td>\n",
              "        <td style=\"padding-left: 1em; padding-right: 1em; text-align: center; vertical-align: top\">Wait, does he eat chalk?</td>\n",
              "        <td style=\"padding-left: 1em; padding-right: 1em; text-align: center; vertical-align: top\">3.0</td>\n",
              "        <td style=\"padding-left: 1em; padding-right: 1em; text-align: center; vertical-align: top\">1.0</td>\n",
              "        <td style=\"padding-left: 1em; padding-right: 1em; text-align: center; vertical-align: top\">phoebe</td>\n",
              "    </tr>\n",
              "    <tr>\n",
              "        <td style=\"padding-left: 1em; padding-right: 1em; text-align: center; vertical-align: top\">1.0</td>\n",
              "        <td style=\"padding-left: 1em; padding-right: 1em; text-align: center; vertical-align: top\">Monica Gets A Roommate</td>\n",
              "        <td style=\"padding-left: 1em; padding-right: 1em; text-align: center; vertical-align: top\">Just, &#x27;cause, I don&#x27;t<br>want her to go through ...</td>\n",
              "        <td style=\"padding-left: 1em; padding-right: 1em; text-align: center; vertical-align: top\">4.0</td>\n",
              "        <td style=\"padding-left: 1em; padding-right: 1em; text-align: center; vertical-align: top\">1.0</td>\n",
              "        <td style=\"padding-left: 1em; padding-right: 1em; text-align: center; vertical-align: top\">phoebe</td>\n",
              "    </tr>\n",
              "    <tr>\n",
              "        <td style=\"padding-left: 1em; padding-right: 1em; text-align: center; vertical-align: top\">1.0</td>\n",
              "        <td style=\"padding-left: 1em; padding-right: 1em; text-align: center; vertical-align: top\">Monica Gets A Roommate</td>\n",
              "        <td style=\"padding-left: 1em; padding-right: 1em; text-align: center; vertical-align: top\">Okay, everybody relax.<br>This is not even a date. ...</td>\n",
              "        <td style=\"padding-left: 1em; padding-right: 1em; text-align: center; vertical-align: top\">5.0</td>\n",
              "        <td style=\"padding-left: 1em; padding-right: 1em; text-align: center; vertical-align: top\">1.0</td>\n",
              "        <td style=\"padding-left: 1em; padding-right: 1em; text-align: center; vertical-align: top\">monica</td>\n",
              "    </tr>\n",
              "    <tr>\n",
              "        <td style=\"padding-left: 1em; padding-right: 1em; text-align: center; vertical-align: top\">1.0</td>\n",
              "        <td style=\"padding-left: 1em; padding-right: 1em; text-align: center; vertical-align: top\">Monica Gets A Roommate</td>\n",
              "        <td style=\"padding-left: 1em; padding-right: 1em; text-align: center; vertical-align: top\">Sounds like a date to me.</td>\n",
              "        <td style=\"padding-left: 1em; padding-right: 1em; text-align: center; vertical-align: top\">6.0</td>\n",
              "        <td style=\"padding-left: 1em; padding-right: 1em; text-align: center; vertical-align: top\">1.0</td>\n",
              "        <td style=\"padding-left: 1em; padding-right: 1em; text-align: center; vertical-align: top\">chandler</td>\n",
              "    </tr>\n",
              "    <tr>\n",
              "        <td style=\"padding-left: 1em; padding-right: 1em; text-align: center; vertical-align: top\">1.0</td>\n",
              "        <td style=\"padding-left: 1em; padding-right: 1em; text-align: center; vertical-align: top\">Monica Gets A Roommate</td>\n",
              "        <td style=\"padding-left: 1em; padding-right: 1em; text-align: center; vertical-align: top\">Alright, so I&#x27;m back in<br>high school, I&#x27;m stan ...</td>\n",
              "        <td style=\"padding-left: 1em; padding-right: 1em; text-align: center; vertical-align: top\">7.0</td>\n",
              "        <td style=\"padding-left: 1em; padding-right: 1em; text-align: center; vertical-align: top\">1.0</td>\n",
              "        <td style=\"padding-left: 1em; padding-right: 1em; text-align: center; vertical-align: top\">chandler</td>\n",
              "    </tr>\n",
              "    <tr>\n",
              "        <td style=\"padding-left: 1em; padding-right: 1em; text-align: center; vertical-align: top\">1.0</td>\n",
              "        <td style=\"padding-left: 1em; padding-right: 1em; text-align: center; vertical-align: top\">Monica Gets A Roommate</td>\n",
              "        <td style=\"padding-left: 1em; padding-right: 1em; text-align: center; vertical-align: top\">Then I look down, and I<br>realize there&#x27;s a ...</td>\n",
              "        <td style=\"padding-left: 1em; padding-right: 1em; text-align: center; vertical-align: top\">9.0</td>\n",
              "        <td style=\"padding-left: 1em; padding-right: 1em; text-align: center; vertical-align: top\">1.0</td>\n",
              "        <td style=\"padding-left: 1em; padding-right: 1em; text-align: center; vertical-align: top\">chandler</td>\n",
              "    </tr>\n",
              "    <tr>\n",
              "        <td style=\"padding-left: 1em; padding-right: 1em; text-align: center; vertical-align: top\">1.0</td>\n",
              "        <td style=\"padding-left: 1em; padding-right: 1em; text-align: center; vertical-align: top\">Monica Gets A Roommate</td>\n",
              "        <td style=\"padding-left: 1em; padding-right: 1em; text-align: center; vertical-align: top\">Instead of...?</td>\n",
              "        <td style=\"padding-left: 1em; padding-right: 1em; text-align: center; vertical-align: top\">10.0</td>\n",
              "        <td style=\"padding-left: 1em; padding-right: 1em; text-align: center; vertical-align: top\">1.0</td>\n",
              "        <td style=\"padding-left: 1em; padding-right: 1em; text-align: center; vertical-align: top\">joey</td>\n",
              "    </tr>\n",
              "</table>\n",
              "<table frame=\"box\" rules=\"cols\">\n",
              "    <tr>\n",
              "        <th style=\"padding-left: 1em; padding-right: 1em; text-align: center\">embedding</th>\n",
              "    </tr>\n",
              "    <tr>\n",
              "        <td style=\"padding-left: 1em; padding-right: 1em; text-align: center; vertical-align: top\">[-6.18888177e-02<br>2.65797228e-01 ...</td>\n",
              "    </tr>\n",
              "    <tr>\n",
              "        <td style=\"padding-left: 1em; padding-right: 1em; text-align: center; vertical-align: top\">[-1.22622110e-01<br>1.81547493e-01 ...</td>\n",
              "    </tr>\n",
              "    <tr>\n",
              "        <td style=\"padding-left: 1em; padding-right: 1em; text-align: center; vertical-align: top\">[-9.82086826e-03<br>9.88112614e-02 ...</td>\n",
              "    </tr>\n",
              "    <tr>\n",
              "        <td style=\"padding-left: 1em; padding-right: 1em; text-align: center; vertical-align: top\">[-3.71425711e-02<br>2.29819149e-01 ...</td>\n",
              "    </tr>\n",
              "    <tr>\n",
              "        <td style=\"padding-left: 1em; padding-right: 1em; text-align: center; vertical-align: top\">[ 4.21000049e-02<br>2.36502886e-01 ...</td>\n",
              "    </tr>\n",
              "    <tr>\n",
              "        <td style=\"padding-left: 1em; padding-right: 1em; text-align: center; vertical-align: top\">[-1.00040007e-02<br>1.46241844e-01 ...</td>\n",
              "    </tr>\n",
              "    <tr>\n",
              "        <td style=\"padding-left: 1em; padding-right: 1em; text-align: center; vertical-align: top\">[ 4.51041423e-02<br>1.73930570e-01 ...</td>\n",
              "    </tr>\n",
              "    <tr>\n",
              "        <td style=\"padding-left: 1em; padding-right: 1em; text-align: center; vertical-align: top\">[ 1.14625013e-02<br>2.69849598e-01 ...</td>\n",
              "    </tr>\n",
              "    <tr>\n",
              "        <td style=\"padding-left: 1em; padding-right: 1em; text-align: center; vertical-align: top\">[ 7.12726032e-03<br>2.44098589e-01 ...</td>\n",
              "    </tr>\n",
              "    <tr>\n",
              "        <td style=\"padding-left: 1em; padding-right: 1em; text-align: center; vertical-align: top\">[-1.22297760e-02<br>1.30369991e-01 ...</td>\n",
              "    </tr>\n",
              "</table>\n",
              "[49796 rows x 7 columns]<br/>Note: Only the head of the SFrame is printed.<br/>You can use print_rows(num_rows=m, num_columns=n) to print more rows and columns.\n",
              "</div>"
            ],
            "text/plain": [
              "Columns:\n",
              "\tepisode_number\tfloat\n",
              "\tepisode_title\tstr\n",
              "\tquote\tstr\n",
              "\tquote_order\tfloat\n",
              "\tseason\tfloat\n",
              "\tauthor\tstr\n",
              "\tembedding\tndarray\n",
              "\n",
              "Rows: 49796\n",
              "\n",
              "Data:\n",
              "+----------------+------------------------+-------------------------------+-------------+\n",
              "| episode_number |     episode_title      |             quote             | quote_order |\n",
              "+----------------+------------------------+-------------------------------+-------------+\n",
              "|      1.0       | Monica Gets A Roommate | There's nothing to tell! H... |     0.0     |\n",
              "|      1.0       | Monica Gets A Roommate | C'mon, you're going out wi... |     1.0     |\n",
              "|      1.0       | Monica Gets A Roommate | All right Joey, be nice. S... |     2.0     |\n",
              "|      1.0       | Monica Gets A Roommate |    Wait, does he eat chalk?   |     3.0     |\n",
              "|      1.0       | Monica Gets A Roommate | Just, 'cause, I don't want... |     4.0     |\n",
              "|      1.0       | Monica Gets A Roommate | Okay, everybody relax. Thi... |     5.0     |\n",
              "|      1.0       | Monica Gets A Roommate |   Sounds like a date to me.   |     6.0     |\n",
              "|      1.0       | Monica Gets A Roommate | Alright, so I'm back in hi... |     7.0     |\n",
              "|      1.0       | Monica Gets A Roommate | Then I look down, and I re... |     9.0     |\n",
              "|      1.0       | Monica Gets A Roommate |         Instead of...?        |     10.0    |\n",
              "+----------------+------------------------+-------------------------------+-------------+\n",
              "+--------+----------+-------------------------------+\n",
              "| season |  author  |           embedding           |\n",
              "+--------+----------+-------------------------------+\n",
              "|  1.0   |  monica  | [-6.18888177e-02  2.657972... |\n",
              "|  1.0   |   joey   | [-1.22622110e-01  1.815474... |\n",
              "|  1.0   | chandler | [-9.82086826e-03  9.881126... |\n",
              "|  1.0   |  phoebe  | [-3.71425711e-02  2.298191... |\n",
              "|  1.0   |  phoebe  | [ 4.21000049e-02  2.365028... |\n",
              "|  1.0   |  monica  | [-1.00040007e-02  1.462418... |\n",
              "|  1.0   | chandler | [ 4.51041423e-02  1.739305... |\n",
              "|  1.0   | chandler | [ 1.14625013e-02  2.698495... |\n",
              "|  1.0   | chandler | [ 7.12726032e-03  2.440985... |\n",
              "|  1.0   |   joey   | [-1.22297760e-02  1.303699... |\n",
              "+--------+----------+-------------------------------+\n",
              "[49796 rows x 7 columns]\n",
              "Note: Only the head of the SFrame is printed.\n",
              "You can use print_rows(num_rows=m, num_columns=n) to print more rows and columns."
            ]
          },
          "metadata": {},
          "execution_count": 9
        }
      ]
    },
    {
      "cell_type": "code",
      "metadata": {
        "colab": {
          "base_uri": "https://localhost:8080/",
          "height": 399
        },
        "id": "MaWAmCvI01if",
        "outputId": "b4270f86-a96d-405f-c6e3-e9cfef0f311a"
      },
      "source": [
        "sf['words_1grams'] = tc.text_analytics.count_ngrams(sf['quote'], n=1, method='word')\n",
        "sf['words_1grams'] = sf['words_1grams'].dict_trim_by_keys(tc.text_analytics.stop_words(), True)\n",
        "sf['words_2grams'] = tc.text_analytics.count_ngrams(sf['quote'], n=2, method='word')\n",
        "train, test = sf.random_split(0.8)\n",
        "cls = tc.random_forest_classifier.create(train,features=['embedding'], target=\"author\")"
      ],
      "execution_count": null,
      "outputs": [
        {
          "output_type": "stream",
          "name": "stdout",
          "text": [
            "PROGRESS: Creating a validation set from 5 percent of training data. This may take a while.\n",
            "          You can set ``validation_set=None`` to disable validation tracking.\n",
            "\n"
          ]
        },
        {
          "output_type": "display_data",
          "data": {
            "text/html": [
              "<pre>Random forest classifier:</pre>"
            ],
            "text/plain": [
              "Random forest classifier:"
            ]
          },
          "metadata": {}
        },
        {
          "output_type": "display_data",
          "data": {
            "text/html": [
              "<pre>--------------------------------------------------------</pre>"
            ],
            "text/plain": [
              "--------------------------------------------------------"
            ]
          },
          "metadata": {}
        },
        {
          "output_type": "display_data",
          "data": {
            "text/html": [
              "<pre>Number of examples          : 37794</pre>"
            ],
            "text/plain": [
              "Number of examples          : 37794"
            ]
          },
          "metadata": {}
        },
        {
          "output_type": "display_data",
          "data": {
            "text/html": [
              "<pre>Number of classes           : 6</pre>"
            ],
            "text/plain": [
              "Number of classes           : 6"
            ]
          },
          "metadata": {}
        },
        {
          "output_type": "display_data",
          "data": {
            "text/html": [
              "<pre>Number of feature columns   : 1</pre>"
            ],
            "text/plain": [
              "Number of feature columns   : 1"
            ]
          },
          "metadata": {}
        },
        {
          "output_type": "display_data",
          "data": {
            "text/html": [
              "<pre>Number of unpacked features : 300</pre>"
            ],
            "text/plain": [
              "Number of unpacked features : 300"
            ]
          },
          "metadata": {}
        },
        {
          "output_type": "display_data",
          "data": {
            "text/html": [
              "<pre>+-----------+--------------+-------------------+---------------------+-------------------+---------------------+</pre>"
            ],
            "text/plain": [
              "+-----------+--------------+-------------------+---------------------+-------------------+---------------------+"
            ]
          },
          "metadata": {}
        },
        {
          "output_type": "display_data",
          "data": {
            "text/html": [
              "<pre>| Iteration | Elapsed Time | Training Accuracy | Validation Accuracy | Training Log Loss | Validation Log Loss |</pre>"
            ],
            "text/plain": [
              "| Iteration | Elapsed Time | Training Accuracy | Validation Accuracy | Training Log Loss | Validation Log Loss |"
            ]
          },
          "metadata": {}
        },
        {
          "output_type": "display_data",
          "data": {
            "text/html": [
              "<pre>+-----------+--------------+-------------------+---------------------+-------------------+---------------------+</pre>"
            ],
            "text/plain": [
              "+-----------+--------------+-------------------+---------------------+-------------------+---------------------+"
            ]
          },
          "metadata": {}
        },
        {
          "output_type": "display_data",
          "data": {
            "text/html": [
              "<pre>| 1         | 5.022319     | 0.275546          | 0.213065            | 1.724672          | 1.787239            |</pre>"
            ],
            "text/plain": [
              "| 1         | 5.022319     | 0.275546          | 0.213065            | 1.724672          | 1.787239            |"
            ]
          },
          "metadata": {}
        },
        {
          "output_type": "display_data",
          "data": {
            "text/html": [
              "<pre>| 2         | 9.984035     | 0.310181          | 0.211055            | 1.712051          | 1.775662            |</pre>"
            ],
            "text/plain": [
              "| 2         | 9.984035     | 0.310181          | 0.211055            | 1.712051          | 1.775662            |"
            ]
          },
          "metadata": {}
        },
        {
          "output_type": "display_data",
          "data": {
            "text/html": [
              "<pre>| 3         | 14.965182    | 0.329364          | 0.218090            | 1.709082          | 1.772131            |</pre>"
            ],
            "text/plain": [
              "| 3         | 14.965182    | 0.329364          | 0.218090            | 1.709082          | 1.772131            |"
            ]
          },
          "metadata": {}
        },
        {
          "output_type": "display_data",
          "data": {
            "text/html": [
              "<pre>| 4         | 19.968412    | 0.343705          | 0.221608            | 1.706263          | 1.772004            |</pre>"
            ],
            "text/plain": [
              "| 4         | 19.968412    | 0.343705          | 0.221608            | 1.706263          | 1.772004            |"
            ]
          },
          "metadata": {}
        },
        {
          "output_type": "display_data",
          "data": {
            "text/html": [
              "<pre>| 5         | 24.935051    | 0.354607          | 0.219095            | 1.705517          | 1.769852            |</pre>"
            ],
            "text/plain": [
              "| 5         | 24.935051    | 0.354607          | 0.219095            | 1.705517          | 1.769852            |"
            ]
          },
          "metadata": {}
        },
        {
          "output_type": "display_data",
          "data": {
            "text/html": [
              "<pre>| 7         | 34.845030    | 0.368445          | 0.229648            | 1.703999          | 1.767420            |</pre>"
            ],
            "text/plain": [
              "| 7         | 34.845030    | 0.368445          | 0.229648            | 1.703999          | 1.767420            |"
            ]
          },
          "metadata": {}
        },
        {
          "output_type": "display_data",
          "data": {
            "text/html": [
              "<pre>| 8         | 39.787510    | 0.373763          | 0.231658            | 1.703716          | 1.767418            |</pre>"
            ],
            "text/plain": [
              "| 8         | 39.787510    | 0.373763          | 0.231658            | 1.703716          | 1.767418            |"
            ]
          },
          "metadata": {}
        },
        {
          "output_type": "display_data",
          "data": {
            "text/html": [
              "<pre>| 9         | 44.812643    | 0.376356          | 0.234171            | 1.703061          | 1.767777            |</pre>"
            ],
            "text/plain": [
              "| 9         | 44.812643    | 0.376356          | 0.234171            | 1.703061          | 1.767777            |"
            ]
          },
          "metadata": {}
        },
        {
          "output_type": "display_data",
          "data": {
            "text/html": [
              "<pre>| 10        | 49.790782    | 0.380986          | 0.230653            | 1.702766          | 1.767912            |</pre>"
            ],
            "text/plain": [
              "| 10        | 49.790782    | 0.380986          | 0.230653            | 1.702766          | 1.767912            |"
            ]
          },
          "metadata": {}
        },
        {
          "output_type": "display_data",
          "data": {
            "text/html": [
              "<pre>+-----------+--------------+-------------------+---------------------+-------------------+---------------------+</pre>"
            ],
            "text/plain": [
              "+-----------+--------------+-------------------+---------------------+-------------------+---------------------+"
            ]
          },
          "metadata": {}
        }
      ]
    },
    {
      "cell_type": "code",
      "metadata": {
        "colab": {
          "base_uri": "https://localhost:8080/"
        },
        "id": "vz-173Q61S53",
        "outputId": "d00c8b77-0879-4352-a535-42e681b1caff"
      },
      "source": [
        "results = cls.evaluate(test)\n",
        "results"
      ],
      "execution_count": null,
      "outputs": [
        {
          "output_type": "execute_result",
          "data": {
            "text/plain": [
              "{'accuracy': 0.23631642029564523,\n",
              " 'auc': 0.582383074106633,\n",
              " 'confusion_matrix': Columns:\n",
              " \ttarget_label\tstr\n",
              " \tpredicted_label\tstr\n",
              " \tcount\tint\n",
              " \n",
              " Rows: 36\n",
              " \n",
              " Data:\n",
              " +--------------+-----------------+-------+\n",
              " | target_label | predicted_label | count |\n",
              " +--------------+-----------------+-------+\n",
              " |     joey     |     chandler    |  244  |\n",
              " |    monica    |      monica     |  372  |\n",
              " |    monica    |      phoebe     |   38  |\n",
              " |     joey     |       joey      |  364  |\n",
              " |    rachel    |       ross      |  438  |\n",
              " |     ross     |      monica     |  209  |\n",
              " |    monica    |     chandler    |  277  |\n",
              " |    monica    |       ross      |  438  |\n",
              " |   chandler   |     chandler    |  315  |\n",
              " |   chandler   |       ross      |  411  |\n",
              " +--------------+-----------------+-------+\n",
              " [36 rows x 3 columns]\n",
              " Note: Only the head of the SFrame is printed.\n",
              " You can use print_rows(num_rows=m, num_columns=n) to print more rows and columns.,\n",
              " 'f1_score': 0.21777757704889286,\n",
              " 'log_loss': 1.7663629301542796,\n",
              " 'precision': 0.23324899425669213,\n",
              " 'recall': 0.22969091297803632,\n",
              " 'roc_curve': Columns:\n",
              " \tthreshold\tfloat\n",
              " \tfpr\tfloat\n",
              " \ttpr\tfloat\n",
              " \tp\tint\n",
              " \tn\tint\n",
              " \tclass\tint\n",
              " \n",
              " Rows: 6006\n",
              " \n",
              " Data:\n",
              " +-----------+-----+-----+------+------+-------+\n",
              " | threshold | fpr | tpr |  p   |  n   | class |\n",
              " +-----------+-----+-----+------+------+-------+\n",
              " |    0.0    | 1.0 | 1.0 | 1666 | 8346 |   0   |\n",
              " |   0.001   | 1.0 | 1.0 | 1666 | 8346 |   0   |\n",
              " |   0.002   | 1.0 | 1.0 | 1666 | 8346 |   0   |\n",
              " |   0.003   | 1.0 | 1.0 | 1666 | 8346 |   0   |\n",
              " |   0.004   | 1.0 | 1.0 | 1666 | 8346 |   0   |\n",
              " |   0.005   | 1.0 | 1.0 | 1666 | 8346 |   0   |\n",
              " |   0.006   | 1.0 | 1.0 | 1666 | 8346 |   0   |\n",
              " |   0.007   | 1.0 | 1.0 | 1666 | 8346 |   0   |\n",
              " |   0.008   | 1.0 | 1.0 | 1666 | 8346 |   0   |\n",
              " |   0.009   | 1.0 | 1.0 | 1666 | 8346 |   0   |\n",
              " +-----------+-----+-----+------+------+-------+\n",
              " [6006 rows x 6 columns]\n",
              " Note: Only the head of the SFrame is printed.\n",
              " You can use print_rows(num_rows=m, num_columns=n) to print more rows and columns.}"
            ]
          },
          "metadata": {},
          "execution_count": 11
        }
      ]
    },
    {
      "cell_type": "markdown",
      "metadata": {
        "id": "MFScH3HM67N6"
      },
      "source": [
        "Sentiment Analysis\n"
      ]
    },
    {
      "cell_type": "code",
      "metadata": {
        "colab": {
          "base_uri": "https://localhost:8080/"
        },
        "id": "90xl4g5m7oOB",
        "outputId": "4d33e880-1e27-4dbf-b818-26a19a45cd21"
      },
      "source": [
        "!pip install afinn\n",
        "!pip install TextBlob"
      ],
      "execution_count": null,
      "outputs": [
        {
          "output_type": "stream",
          "name": "stdout",
          "text": [
            "Collecting afinn\n",
            "  Downloading afinn-0.1.tar.gz (52 kB)\n",
            "\u001b[?25l\r\u001b[K     |██████▎                         | 10 kB 23.0 MB/s eta 0:00:01\r\u001b[K     |████████████▌                   | 20 kB 24.6 MB/s eta 0:00:01\r\u001b[K     |██████████████████▊             | 30 kB 12.4 MB/s eta 0:00:01\r\u001b[K     |█████████████████████████       | 40 kB 9.4 MB/s eta 0:00:01\r\u001b[K     |███████████████████████████████▏| 51 kB 4.4 MB/s eta 0:00:01\r\u001b[K     |████████████████████████████████| 52 kB 984 kB/s \n",
            "\u001b[?25hBuilding wheels for collected packages: afinn\n",
            "  Building wheel for afinn (setup.py) ... \u001b[?25l\u001b[?25hdone\n",
            "  Created wheel for afinn: filename=afinn-0.1-py3-none-any.whl size=53448 sha256=03cf9a9648011bcfe0c5db3a87d78f10366a45b0abb13b1645a157d2b5026c6b\n",
            "  Stored in directory: /root/.cache/pip/wheels/9d/16/3a/9f0953027434eab5dadf3f33ab3298fa95afa8292fcf7aba75\n",
            "Successfully built afinn\n",
            "Installing collected packages: afinn\n",
            "Successfully installed afinn-0.1\n",
            "Requirement already satisfied: TextBlob in /usr/local/lib/python3.7/dist-packages (0.15.3)\n",
            "Requirement already satisfied: nltk>=3.1 in /usr/local/lib/python3.7/dist-packages (from TextBlob) (3.2.5)\n",
            "Requirement already satisfied: six in /usr/local/lib/python3.7/dist-packages (from nltk>=3.1->TextBlob) (1.15.0)\n"
          ]
        }
      ]
    },
    {
      "cell_type": "code",
      "metadata": {
        "colab": {
          "base_uri": "https://localhost:8080/",
          "height": 189
        },
        "id": "DyquZjpJ69ko",
        "outputId": "57662bb6-81b8-4378-dad0-ab5fa7a9aa64"
      },
      "source": [
        "# import turicreate.aggregate as agg\n",
        "from afinn import Afinn\n",
        "from textblob import TextBlob\n",
        "afinn = Afinn()\n",
        "\n",
        "sf['text_blob_polarity'] = sf['quote'].apply(lambda t: TextBlob(t).sentiment.polarity)\n",
        "sf['afinn_score'] = sf['quote'].apply(lambda t: afinn.score(t))\n",
        "\n",
        "mean_sf = sf.groupby(['author'], {'affin_score_mean':tc.aggregate.MEAN('afinn_score'), 'text_blob_polarity_mean':tc.aggregate.MEAN('text_blob_polarity')})\n",
        "print(\"most friendly\")\n",
        "mean_sf.sort([\"affin_score_mean\",\"text_blob_polarity_mean\"], ascending=False)"
      ],
      "execution_count": null,
      "outputs": [
        {
          "output_type": "stream",
          "name": "stdout",
          "text": [
            "most friendly\n"
          ]
        },
        {
          "output_type": "execute_result",
          "data": {
            "text/html": [
              "<div style=\"max-height:1000px;max-width:1500px;overflow:auto;\"><table frame=\"box\" rules=\"cols\">\n",
              "    <tr>\n",
              "        <th style=\"padding-left: 1em; padding-right: 1em; text-align: center\">author</th>\n",
              "        <th style=\"padding-left: 1em; padding-right: 1em; text-align: center\">affin_score_mean</th>\n",
              "        <th style=\"padding-left: 1em; padding-right: 1em; text-align: center\">text_blob_polarity_mean</th>\n",
              "    </tr>\n",
              "    <tr>\n",
              "        <td style=\"padding-left: 1em; padding-right: 1em; text-align: center; vertical-align: top\">rachel</td>\n",
              "        <td style=\"padding-left: 1em; padding-right: 1em; text-align: center; vertical-align: top\">0.5598181616587202</td>\n",
              "        <td style=\"padding-left: 1em; padding-right: 1em; text-align: center; vertical-align: top\">0.08771908752774821</td>\n",
              "    </tr>\n",
              "    <tr>\n",
              "        <td style=\"padding-left: 1em; padding-right: 1em; text-align: center; vertical-align: top\">phoebe</td>\n",
              "        <td style=\"padding-left: 1em; padding-right: 1em; text-align: center; vertical-align: top\">0.5472214618122095</td>\n",
              "        <td style=\"padding-left: 1em; padding-right: 1em; text-align: center; vertical-align: top\">0.0982540432109094</td>\n",
              "    </tr>\n",
              "    <tr>\n",
              "        <td style=\"padding-left: 1em; padding-right: 1em; text-align: center; vertical-align: top\">joey</td>\n",
              "        <td style=\"padding-left: 1em; padding-right: 1em; text-align: center; vertical-align: top\">0.5419554455445543</td>\n",
              "        <td style=\"padding-left: 1em; padding-right: 1em; text-align: center; vertical-align: top\">0.08074960349158955</td>\n",
              "    </tr>\n",
              "    <tr>\n",
              "        <td style=\"padding-left: 1em; padding-right: 1em; text-align: center; vertical-align: top\">ross</td>\n",
              "        <td style=\"padding-left: 1em; padding-right: 1em; text-align: center; vertical-align: top\">0.48775055679287305</td>\n",
              "        <td style=\"padding-left: 1em; padding-right: 1em; text-align: center; vertical-align: top\">0.08297685222852548</td>\n",
              "    </tr>\n",
              "    <tr>\n",
              "        <td style=\"padding-left: 1em; padding-right: 1em; text-align: center; vertical-align: top\">monica</td>\n",
              "        <td style=\"padding-left: 1em; padding-right: 1em; text-align: center; vertical-align: top\">0.459360952496659</td>\n",
              "        <td style=\"padding-left: 1em; padding-right: 1em; text-align: center; vertical-align: top\">0.08001010985937602</td>\n",
              "    </tr>\n",
              "    <tr>\n",
              "        <td style=\"padding-left: 1em; padding-right: 1em; text-align: center; vertical-align: top\">chandler</td>\n",
              "        <td style=\"padding-left: 1em; padding-right: 1em; text-align: center; vertical-align: top\">0.4222493887530563</td>\n",
              "        <td style=\"padding-left: 1em; padding-right: 1em; text-align: center; vertical-align: top\">0.08355810619797893</td>\n",
              "    </tr>\n",
              "</table>\n",
              "[6 rows x 3 columns]<br/>\n",
              "</div>"
            ],
            "text/plain": [
              "Columns:\n",
              "\tauthor\tstr\n",
              "\taffin_score_mean\tfloat\n",
              "\ttext_blob_polarity_mean\tfloat\n",
              "\n",
              "Rows: 6\n",
              "\n",
              "Data:\n",
              "+----------+---------------------+-------------------------+\n",
              "|  author  |   affin_score_mean  | text_blob_polarity_mean |\n",
              "+----------+---------------------+-------------------------+\n",
              "|  rachel  |  0.5598181616587202 |   0.08771908752774821   |\n",
              "|  phoebe  |  0.5472214618122095 |    0.0982540432109094   |\n",
              "|   joey   |  0.5419554455445543 |   0.08074960349158955   |\n",
              "|   ross   | 0.48775055679287305 |   0.08297685222852548   |\n",
              "|  monica  |  0.459360952496659  |   0.08001010985937602   |\n",
              "| chandler |  0.4222493887530563 |   0.08355810619797893   |\n",
              "+----------+---------------------+-------------------------+\n",
              "[6 rows x 3 columns]"
            ]
          },
          "metadata": {},
          "execution_count": 13
        }
      ]
    },
    {
      "cell_type": "code",
      "metadata": {
        "colab": {
          "base_uri": "https://localhost:8080/",
          "height": 189
        },
        "id": "rgviO6HzGijQ",
        "outputId": "8cc6dd1a-e194-4d3d-fb01-988a466889a6"
      },
      "source": [
        "print(\"least friendly\")\n",
        "mean_sf.sort([\"affin_score_mean\",\"text_blob_polarity_mean\"], ascending=True)\n"
      ],
      "execution_count": null,
      "outputs": [
        {
          "output_type": "stream",
          "name": "stdout",
          "text": [
            "least friendly\n"
          ]
        },
        {
          "output_type": "execute_result",
          "data": {
            "text/html": [
              "<div style=\"max-height:1000px;max-width:1500px;overflow:auto;\"><table frame=\"box\" rules=\"cols\">\n",
              "    <tr>\n",
              "        <th style=\"padding-left: 1em; padding-right: 1em; text-align: center\">author</th>\n",
              "        <th style=\"padding-left: 1em; padding-right: 1em; text-align: center\">affin_score_mean</th>\n",
              "        <th style=\"padding-left: 1em; padding-right: 1em; text-align: center\">text_blob_polarity_mean</th>\n",
              "    </tr>\n",
              "    <tr>\n",
              "        <td style=\"padding-left: 1em; padding-right: 1em; text-align: center; vertical-align: top\">chandler</td>\n",
              "        <td style=\"padding-left: 1em; padding-right: 1em; text-align: center; vertical-align: top\">0.4222493887530563</td>\n",
              "        <td style=\"padding-left: 1em; padding-right: 1em; text-align: center; vertical-align: top\">0.08355810619797893</td>\n",
              "    </tr>\n",
              "    <tr>\n",
              "        <td style=\"padding-left: 1em; padding-right: 1em; text-align: center; vertical-align: top\">monica</td>\n",
              "        <td style=\"padding-left: 1em; padding-right: 1em; text-align: center; vertical-align: top\">0.459360952496659</td>\n",
              "        <td style=\"padding-left: 1em; padding-right: 1em; text-align: center; vertical-align: top\">0.08001010985937602</td>\n",
              "    </tr>\n",
              "    <tr>\n",
              "        <td style=\"padding-left: 1em; padding-right: 1em; text-align: center; vertical-align: top\">ross</td>\n",
              "        <td style=\"padding-left: 1em; padding-right: 1em; text-align: center; vertical-align: top\">0.48775055679287305</td>\n",
              "        <td style=\"padding-left: 1em; padding-right: 1em; text-align: center; vertical-align: top\">0.08297685222852548</td>\n",
              "    </tr>\n",
              "    <tr>\n",
              "        <td style=\"padding-left: 1em; padding-right: 1em; text-align: center; vertical-align: top\">joey</td>\n",
              "        <td style=\"padding-left: 1em; padding-right: 1em; text-align: center; vertical-align: top\">0.5419554455445543</td>\n",
              "        <td style=\"padding-left: 1em; padding-right: 1em; text-align: center; vertical-align: top\">0.08074960349158955</td>\n",
              "    </tr>\n",
              "    <tr>\n",
              "        <td style=\"padding-left: 1em; padding-right: 1em; text-align: center; vertical-align: top\">phoebe</td>\n",
              "        <td style=\"padding-left: 1em; padding-right: 1em; text-align: center; vertical-align: top\">0.5472214618122095</td>\n",
              "        <td style=\"padding-left: 1em; padding-right: 1em; text-align: center; vertical-align: top\">0.0982540432109094</td>\n",
              "    </tr>\n",
              "    <tr>\n",
              "        <td style=\"padding-left: 1em; padding-right: 1em; text-align: center; vertical-align: top\">rachel</td>\n",
              "        <td style=\"padding-left: 1em; padding-right: 1em; text-align: center; vertical-align: top\">0.5598181616587202</td>\n",
              "        <td style=\"padding-left: 1em; padding-right: 1em; text-align: center; vertical-align: top\">0.08771908752774821</td>\n",
              "    </tr>\n",
              "</table>\n",
              "[6 rows x 3 columns]<br/>\n",
              "</div>"
            ],
            "text/plain": [
              "Columns:\n",
              "\tauthor\tstr\n",
              "\taffin_score_mean\tfloat\n",
              "\ttext_blob_polarity_mean\tfloat\n",
              "\n",
              "Rows: 6\n",
              "\n",
              "Data:\n",
              "+----------+---------------------+-------------------------+\n",
              "|  author  |   affin_score_mean  | text_blob_polarity_mean |\n",
              "+----------+---------------------+-------------------------+\n",
              "| chandler |  0.4222493887530563 |   0.08355810619797893   |\n",
              "|  monica  |  0.459360952496659  |   0.08001010985937602   |\n",
              "|   ross   | 0.48775055679287305 |   0.08297685222852548   |\n",
              "|   joey   |  0.5419554455445543 |   0.08074960349158955   |\n",
              "|  phoebe  |  0.5472214618122095 |    0.0982540432109094   |\n",
              "|  rachel  |  0.5598181616587202 |   0.08771908752774821   |\n",
              "+----------+---------------------+-------------------------+\n",
              "[6 rows x 3 columns]"
            ]
          },
          "metadata": {},
          "execution_count": 14
        }
      ]
    },
    {
      "cell_type": "markdown",
      "metadata": {
        "id": "2-Upcp26OFX7"
      },
      "source": [
        "season prediction"
      ]
    },
    {
      "cell_type": "code",
      "metadata": {
        "id": "bIikQGqaOMiP"
      },
      "source": [
        "# reviews_sf['full_text'] = sf.apply(lambda r: str(r['Summary']+\" \"+r['Text']).lower())\n",
        "seasons_quotes = sf.groupby([\"season\"], {\"quotes\": tc.aggregate.CONCAT(\"quote\")})\n",
        "\n",
        "number_of_qutues = 3\n"
      ],
      "execution_count": null,
      "outputs": []
    },
    {
      "cell_type": "code",
      "metadata": {
        "id": "chAeyeIIMjHF"
      },
      "source": [
        "data = {}\n",
        "data['season'] = []\n",
        "data['quotes'] = []\n",
        "for season in seasons_quotes[\"season\"].unique():\n",
        "  season_quotes = seasons_quotes[\"season\" == season]['quotes']\n",
        "  for a in range(0,len(season_quotes),number_of_qutues):\n",
        "    if a+number_of_qutues>len(season_quotes):\n",
        "      break\n",
        "    # data.append({\"season\": season, qutoes = })\n",
        "    data['season'].append(int(season))\n",
        "    data['quotes'].append(\" \".join(season_quotes[a:a+number_of_qutues]))"
      ],
      "execution_count": null,
      "outputs": []
    },
    {
      "cell_type": "code",
      "metadata": {
        "colab": {
          "base_uri": "https://localhost:8080/",
          "height": 475
        },
        "id": "j5fPBYdxNRct",
        "outputId": "96342251-f011-4458-94fc-c88974dc59d1"
      },
      "source": [
        "sf_quotes = tc.SFrame(data)\n",
        "\n",
        "l = []\n",
        "for i in tqdm(range(len(sf_quotes))):\n",
        "  # print(sf_quotes[i])\n",
        "  text = sf_quotes[i][\"quotes\"]\n",
        "  l.append(cp.asnumpy(nlp(text).vector))\n",
        "sf_quotes['embedding'] = l \n",
        "sf_quotes"
      ],
      "execution_count": null,
      "outputs": [
        {
          "output_type": "stream",
          "name": "stderr",
          "text": [
            "100%|██████████| 18200/18200 [11:00<00:00, 27.54it/s]\n"
          ]
        },
        {
          "output_type": "execute_result",
          "data": {
            "text/html": [
              "<div style=\"max-height:1000px;max-width:1500px;overflow:auto;\"><table frame=\"box\" rules=\"cols\">\n",
              "    <tr>\n",
              "        <th style=\"padding-left: 1em; padding-right: 1em; text-align: center\">quotes</th>\n",
              "        <th style=\"padding-left: 1em; padding-right: 1em; text-align: center\">season</th>\n",
              "        <th style=\"padding-left: 1em; padding-right: 1em; text-align: center\">embedding</th>\n",
              "    </tr>\n",
              "    <tr>\n",
              "        <td style=\"padding-left: 1em; padding-right: 1em; text-align: center; vertical-align: top\">(To Chandler) You told<br>her! Nancy Thompsons ...</td>\n",
              "        <td style=\"padding-left: 1em; padding-right: 1em; text-align: center; vertical-align: top\">7</td>\n",
              "        <td style=\"padding-left: 1em; padding-right: 1em; text-align: center; vertical-align: top\">[-1.01204187e-01<br>1.87473550e-01 ...</td>\n",
              "    </tr>\n",
              "    <tr>\n",
              "        <td style=\"padding-left: 1em; padding-right: 1em; text-align: center; vertical-align: top\">Youre right. I mean Im<br>sorry. Yeah, I shouldnt ...</td>\n",
              "        <td style=\"padding-left: 1em; padding-right: 1em; text-align: center; vertical-align: top\">7</td>\n",
              "        <td style=\"padding-left: 1em; padding-right: 1em; text-align: center; vertical-align: top\">[-9.45673659e-02<br>1.40639290e-01 ...</td>\n",
              "    </tr>\n",
              "    <tr>\n",
              "        <td style=\"padding-left: 1em; padding-right: 1em; text-align: center; vertical-align: top\">Oh really? Well I-I guess<br>Monica should know about ...</td>\n",
              "        <td style=\"padding-left: 1em; padding-right: 1em; text-align: center; vertical-align: top\">7</td>\n",
              "        <td style=\"padding-left: 1em; padding-right: 1em; text-align: center; vertical-align: top\">[-1.96410250e-02<br>2.25918874e-01 ...</td>\n",
              "    </tr>\n",
              "    <tr>\n",
              "        <td style=\"padding-left: 1em; padding-right: 1em; text-align: center; vertical-align: top\">Well, Chandler and I are<br>in a bar Did you not  ...</td>\n",
              "        <td style=\"padding-left: 1em; padding-right: 1em; text-align: center; vertical-align: top\">7</td>\n",
              "        <td style=\"padding-left: 1em; padding-right: 1em; text-align: center; vertical-align: top\">[-2.32902132e-02<br>2.27021694e-01 ...</td>\n",
              "    </tr>\n",
              "    <tr>\n",
              "        <td style=\"padding-left: 1em; padding-right: 1em; text-align: center; vertical-align: top\">(To Chandler) You kissed<br>a guy?!! Oh my God. I ...</td>\n",
              "        <td style=\"padding-left: 1em; padding-right: 1em; text-align: center; vertical-align: top\">7</td>\n",
              "        <td style=\"padding-left: 1em; padding-right: 1em; text-align: center; vertical-align: top\">[-1.70020685e-01<br>1.74159959e-01 ...</td>\n",
              "    </tr>\n",
              "    <tr>\n",
              "        <td style=\"padding-left: 1em; padding-right: 1em; text-align: center; vertical-align: top\">Ho-ho, so hard we had to<br>throw out your underwear ...</td>\n",
              "        <td style=\"padding-left: 1em; padding-right: 1em; text-align: center; vertical-align: top\">7</td>\n",
              "        <td style=\"padding-left: 1em; padding-right: 1em; text-align: center; vertical-align: top\">[-1.14585645e-01<br>1.27855703e-01 ...</td>\n",
              "    </tr>\n",
              "    <tr>\n",
              "        <td style=\"padding-left: 1em; padding-right: 1em; text-align: center; vertical-align: top\">Hey. HeyOoh, hows<br>Hilda? Is she working ...</td>\n",
              "        <td style=\"padding-left: 1em; padding-right: 1em; text-align: center; vertical-align: top\">7</td>\n",
              "        <td style=\"padding-left: 1em; padding-right: 1em; text-align: center; vertical-align: top\">[ 2.37210318e-02<br>2.38302067e-01 ...</td>\n",
              "    </tr>\n",
              "    <tr>\n",
              "        <td style=\"padding-left: 1em; padding-right: 1em; text-align: center; vertical-align: top\">Was she happy you gave<br>her the job? Oh, my-my ...</td>\n",
              "        <td style=\"padding-left: 1em; padding-right: 1em; text-align: center; vertical-align: top\">7</td>\n",
              "        <td style=\"padding-left: 1em; padding-right: 1em; text-align: center; vertical-align: top\">[-6.34163618e-02<br>1.66962668e-01 ...</td>\n",
              "    </tr>\n",
              "    <tr>\n",
              "        <td style=\"padding-left: 1em; padding-right: 1em; text-align: center; vertical-align: top\">Sorry. Im sorry Joey.<br>Why would they do that?! ...</td>\n",
              "        <td style=\"padding-left: 1em; padding-right: 1em; text-align: center; vertical-align: top\">7</td>\n",
              "        <td style=\"padding-left: 1em; padding-right: 1em; text-align: center; vertical-align: top\">[-0.10007115  0.23985751<br>-0.2042052  -0.17937972 ...</td>\n",
              "    </tr>\n",
              "    <tr>\n",
              "        <td style=\"padding-left: 1em; padding-right: 1em; text-align: center; vertical-align: top\">You wanna tell secrets?!<br>Okay! Okay! In college, ...</td>\n",
              "        <td style=\"padding-left: 1em; padding-right: 1em; text-align: center; vertical-align: top\">7</td>\n",
              "        <td style=\"padding-left: 1em; padding-right: 1em; text-align: center; vertical-align: top\">[-9.29432958e-02<br>1.07412092e-01 ...</td>\n",
              "    </tr>\n",
              "</table>\n",
              "[18200 rows x 3 columns]<br/>Note: Only the head of the SFrame is printed.<br/>You can use print_rows(num_rows=m, num_columns=n) to print more rows and columns.\n",
              "</div>"
            ],
            "text/plain": [
              "Columns:\n",
              "\tquotes\tstr\n",
              "\tseason\tint\n",
              "\tembedding\tndarray\n",
              "\n",
              "Rows: 18200\n",
              "\n",
              "Data:\n",
              "+-------------------------------+--------+-------------------------------+\n",
              "|             quotes            | season |           embedding           |\n",
              "+-------------------------------+--------+-------------------------------+\n",
              "| (To Chandler) You told her... |   7    | [-1.01204187e-01  1.874735... |\n",
              "| Youre right. I mean Im s... |   7    | [-9.45673659e-02  1.406392... |\n",
              "| Oh really? Well I-I guess ... |   7    | [-1.96410250e-02  2.259188... |\n",
              "| Well, Chandler and I are i... |   7    | [-2.32902132e-02  2.270216... |\n",
              "| (To Chandler) You kissed a... |   7    | [-1.70020685e-01  1.741599... |\n",
              "| Ho-ho, so hard we had to t... |   7    | [-1.14585645e-01  1.278557... |\n",
              "| Hey. HeyOoh, hows Hilda?... |   7    | [ 2.37210318e-02  2.383020... |\n",
              "| Was she happy you gave her... |   7    | [-6.34163618e-02  1.669626... |\n",
              "| Sorry. Im sorry Joey. Why... |   7    | [-0.10007115  0.23985751 -... |\n",
              "| You wanna tell secrets?! O... |   7    | [-9.29432958e-02  1.074120... |\n",
              "+-------------------------------+--------+-------------------------------+\n",
              "[18200 rows x 3 columns]\n",
              "Note: Only the head of the SFrame is printed.\n",
              "You can use print_rows(num_rows=m, num_columns=n) to print more rows and columns."
            ]
          },
          "metadata": {},
          "execution_count": 17
        }
      ]
    },
    {
      "cell_type": "code",
      "metadata": {
        "id": "ZRLtl3AkSP3q",
        "colab": {
          "base_uri": "https://localhost:8080/",
          "height": 1000
        },
        "outputId": "58e539eb-2311-418d-b1d9-44461014a0ed"
      },
      "source": [
        "train, test = sf_quotes.random_split(0.8)\n",
        "cls = tc.classifier.create(train,features=['embedding'], target=\"season\")"
      ],
      "execution_count": null,
      "outputs": [
        {
          "output_type": "stream",
          "name": "stdout",
          "text": [
            "PROGRESS: Creating a validation set from 5 percent of training data. This may take a while.\n",
            "          You can set ``validation_set=None`` to disable validation tracking.\n",
            "\n",
            "PROGRESS: The following methods are available for this type of problem.\n",
            "PROGRESS: BoostedTreesClassifier, RandomForestClassifier, DecisionTreeClassifier, LogisticClassifier\n",
            "PROGRESS: The returned model will be chosen according to validation accuracy.\n"
          ]
        },
        {
          "output_type": "display_data",
          "data": {
            "text/html": [
              "<pre>Boosted trees classifier:</pre>"
            ],
            "text/plain": [
              "Boosted trees classifier:"
            ]
          },
          "metadata": {}
        },
        {
          "output_type": "display_data",
          "data": {
            "text/html": [
              "<pre>--------------------------------------------------------</pre>"
            ],
            "text/plain": [
              "--------------------------------------------------------"
            ]
          },
          "metadata": {}
        },
        {
          "output_type": "display_data",
          "data": {
            "text/html": [
              "<pre>Number of examples          : 13815</pre>"
            ],
            "text/plain": [
              "Number of examples          : 13815"
            ]
          },
          "metadata": {}
        },
        {
          "output_type": "display_data",
          "data": {
            "text/html": [
              "<pre>Number of classes           : 10</pre>"
            ],
            "text/plain": [
              "Number of classes           : 10"
            ]
          },
          "metadata": {}
        },
        {
          "output_type": "display_data",
          "data": {
            "text/html": [
              "<pre>Number of feature columns   : 1</pre>"
            ],
            "text/plain": [
              "Number of feature columns   : 1"
            ]
          },
          "metadata": {}
        },
        {
          "output_type": "display_data",
          "data": {
            "text/html": [
              "<pre>Number of unpacked features : 300</pre>"
            ],
            "text/plain": [
              "Number of unpacked features : 300"
            ]
          },
          "metadata": {}
        },
        {
          "output_type": "display_data",
          "data": {
            "text/html": [
              "<pre>+-----------+--------------+-------------------+---------------------+-------------------+---------------------+</pre>"
            ],
            "text/plain": [
              "+-----------+--------------+-------------------+---------------------+-------------------+---------------------+"
            ]
          },
          "metadata": {}
        },
        {
          "output_type": "display_data",
          "data": {
            "text/html": [
              "<pre>| Iteration | Elapsed Time | Training Accuracy | Validation Accuracy | Training Log Loss | Validation Log Loss |</pre>"
            ],
            "text/plain": [
              "| Iteration | Elapsed Time | Training Accuracy | Validation Accuracy | Training Log Loss | Validation Log Loss |"
            ]
          },
          "metadata": {}
        },
        {
          "output_type": "display_data",
          "data": {
            "text/html": [
              "<pre>+-----------+--------------+-------------------+---------------------+-------------------+---------------------+</pre>"
            ],
            "text/plain": [
              "+-----------+--------------+-------------------+---------------------+-------------------+---------------------+"
            ]
          },
          "metadata": {}
        },
        {
          "output_type": "display_data",
          "data": {
            "text/html": [
              "<pre>| 1         | 2.368973     | 0.124502          | 0.017857            | 2.294319          | 2.330432            |</pre>"
            ],
            "text/plain": [
              "| 1         | 2.368973     | 0.124502          | 0.017857            | 2.294319          | 2.330432            |"
            ]
          },
          "metadata": {}
        },
        {
          "output_type": "display_data",
          "data": {
            "text/html": [
              "<pre>| 2         | 4.740643     | 0.128339          | 0.013736            | 2.287238          | 2.357461            |</pre>"
            ],
            "text/plain": [
              "| 2         | 4.740643     | 0.128339          | 0.013736            | 2.287238          | 2.357461            |"
            ]
          },
          "metadata": {}
        },
        {
          "output_type": "display_data",
          "data": {
            "text/html": [
              "<pre>| 3         | 7.084936     | 0.128484          | 0.009615            | 2.280976          | 2.382120            |</pre>"
            ],
            "text/plain": [
              "| 3         | 7.084936     | 0.128484          | 0.009615            | 2.280976          | 2.382120            |"
            ]
          },
          "metadata": {}
        },
        {
          "output_type": "display_data",
          "data": {
            "text/html": [
              "<pre>| 4         | 9.392533     | 0.129642          | 0.004121            | 2.275393          | 2.406468            |</pre>"
            ],
            "text/plain": [
              "| 4         | 9.392533     | 0.129642          | 0.004121            | 2.275393          | 2.406468            |"
            ]
          },
          "metadata": {}
        },
        {
          "output_type": "display_data",
          "data": {
            "text/html": [
              "<pre>| 5         | 11.694299    | 0.130293          | 0.001374            | 2.269169          | 2.433917            |</pre>"
            ],
            "text/plain": [
              "| 5         | 11.694299    | 0.130293          | 0.001374            | 2.269169          | 2.433917            |"
            ]
          },
          "metadata": {}
        },
        {
          "output_type": "display_data",
          "data": {
            "text/html": [
              "<pre>| 10        | 23.232172    | 0.131379          | 0.000000            | 2.243157          | 2.562017            |</pre>"
            ],
            "text/plain": [
              "| 10        | 23.232172    | 0.131379          | 0.000000            | 2.243157          | 2.562017            |"
            ]
          },
          "metadata": {}
        },
        {
          "output_type": "display_data",
          "data": {
            "text/html": [
              "<pre>+-----------+--------------+-------------------+---------------------+-------------------+---------------------+</pre>"
            ],
            "text/plain": [
              "+-----------+--------------+-------------------+---------------------+-------------------+---------------------+"
            ]
          },
          "metadata": {}
        },
        {
          "output_type": "display_data",
          "data": {
            "text/html": [
              "<pre>Random forest classifier:</pre>"
            ],
            "text/plain": [
              "Random forest classifier:"
            ]
          },
          "metadata": {}
        },
        {
          "output_type": "display_data",
          "data": {
            "text/html": [
              "<pre>--------------------------------------------------------</pre>"
            ],
            "text/plain": [
              "--------------------------------------------------------"
            ]
          },
          "metadata": {}
        },
        {
          "output_type": "display_data",
          "data": {
            "text/html": [
              "<pre>Number of examples          : 13815</pre>"
            ],
            "text/plain": [
              "Number of examples          : 13815"
            ]
          },
          "metadata": {}
        },
        {
          "output_type": "display_data",
          "data": {
            "text/html": [
              "<pre>Number of classes           : 10</pre>"
            ],
            "text/plain": [
              "Number of classes           : 10"
            ]
          },
          "metadata": {}
        },
        {
          "output_type": "display_data",
          "data": {
            "text/html": [
              "<pre>Number of feature columns   : 1</pre>"
            ],
            "text/plain": [
              "Number of feature columns   : 1"
            ]
          },
          "metadata": {}
        },
        {
          "output_type": "display_data",
          "data": {
            "text/html": [
              "<pre>Number of unpacked features : 300</pre>"
            ],
            "text/plain": [
              "Number of unpacked features : 300"
            ]
          },
          "metadata": {}
        },
        {
          "output_type": "display_data",
          "data": {
            "text/html": [
              "<pre>+-----------+--------------+-------------------+---------------------+-------------------+---------------------+</pre>"
            ],
            "text/plain": [
              "+-----------+--------------+-------------------+---------------------+-------------------+---------------------+"
            ]
          },
          "metadata": {}
        },
        {
          "output_type": "display_data",
          "data": {
            "text/html": [
              "<pre>| Iteration | Elapsed Time | Training Accuracy | Validation Accuracy | Training Log Loss | Validation Log Loss |</pre>"
            ],
            "text/plain": [
              "| Iteration | Elapsed Time | Training Accuracy | Validation Accuracy | Training Log Loss | Validation Log Loss |"
            ]
          },
          "metadata": {}
        },
        {
          "output_type": "display_data",
          "data": {
            "text/html": [
              "<pre>+-----------+--------------+-------------------+---------------------+-------------------+---------------------+</pre>"
            ],
            "text/plain": [
              "+-----------+--------------+-------------------+---------------------+-------------------+---------------------+"
            ]
          },
          "metadata": {}
        },
        {
          "output_type": "display_data",
          "data": {
            "text/html": [
              "<pre>| 1         | 1.998137     | 0.124285          | 0.028846            | 2.286381          | 2.413889            |</pre>"
            ],
            "text/plain": [
              "| 1         | 1.998137     | 0.124285          | 0.028846            | 2.286381          | 2.413889            |"
            ]
          },
          "metadata": {}
        },
        {
          "output_type": "display_data",
          "data": {
            "text/html": [
              "<pre>| 2         | 3.954351     | 0.126891          | 0.013736            | 2.281522          | 2.401414            |</pre>"
            ],
            "text/plain": [
              "| 2         | 3.954351     | 0.126891          | 0.013736            | 2.281522          | 2.401414            |"
            ]
          },
          "metadata": {}
        },
        {
          "output_type": "display_data",
          "data": {
            "text/html": [
              "<pre>| 3         | 5.952547     | 0.128990          | 0.002747            | 2.277352          | 2.407898            |</pre>"
            ],
            "text/plain": [
              "| 3         | 5.952547     | 0.128990          | 0.002747            | 2.277352          | 2.407898            |"
            ]
          },
          "metadata": {}
        },
        {
          "output_type": "display_data",
          "data": {
            "text/html": [
              "<pre>| 4         | 7.914677     | 0.130004          | 0.004121            | 2.277220          | 2.402936            |</pre>"
            ],
            "text/plain": [
              "| 4         | 7.914677     | 0.130004          | 0.004121            | 2.277220          | 2.402936            |"
            ]
          },
          "metadata": {}
        },
        {
          "output_type": "display_data",
          "data": {
            "text/html": [
              "<pre>| 5         | 9.883966     | 0.129714          | 0.006868            | 2.276879          | 2.400548            |</pre>"
            ],
            "text/plain": [
              "| 5         | 9.883966     | 0.129714          | 0.006868            | 2.276879          | 2.400548            |"
            ]
          },
          "metadata": {}
        },
        {
          "output_type": "display_data",
          "data": {
            "text/html": [
              "<pre>| 10        | 19.714453    | 0.131162          | 0.002747            | 2.275210          | 2.402692            |</pre>"
            ],
            "text/plain": [
              "| 10        | 19.714453    | 0.131162          | 0.002747            | 2.275210          | 2.402692            |"
            ]
          },
          "metadata": {}
        },
        {
          "output_type": "display_data",
          "data": {
            "text/html": [
              "<pre>+-----------+--------------+-------------------+---------------------+-------------------+---------------------+</pre>"
            ],
            "text/plain": [
              "+-----------+--------------+-------------------+---------------------+-------------------+---------------------+"
            ]
          },
          "metadata": {}
        },
        {
          "output_type": "display_data",
          "data": {
            "text/html": [
              "<pre>Decision tree classifier:</pre>"
            ],
            "text/plain": [
              "Decision tree classifier:"
            ]
          },
          "metadata": {}
        },
        {
          "output_type": "display_data",
          "data": {
            "text/html": [
              "<pre>--------------------------------------------------------</pre>"
            ],
            "text/plain": [
              "--------------------------------------------------------"
            ]
          },
          "metadata": {}
        },
        {
          "output_type": "display_data",
          "data": {
            "text/html": [
              "<pre>Number of examples          : 13815</pre>"
            ],
            "text/plain": [
              "Number of examples          : 13815"
            ]
          },
          "metadata": {}
        },
        {
          "output_type": "display_data",
          "data": {
            "text/html": [
              "<pre>Number of classes           : 10</pre>"
            ],
            "text/plain": [
              "Number of classes           : 10"
            ]
          },
          "metadata": {}
        },
        {
          "output_type": "display_data",
          "data": {
            "text/html": [
              "<pre>Number of feature columns   : 1</pre>"
            ],
            "text/plain": [
              "Number of feature columns   : 1"
            ]
          },
          "metadata": {}
        },
        {
          "output_type": "display_data",
          "data": {
            "text/html": [
              "<pre>Number of unpacked features : 300</pre>"
            ],
            "text/plain": [
              "Number of unpacked features : 300"
            ]
          },
          "metadata": {}
        },
        {
          "output_type": "display_data",
          "data": {
            "text/html": [
              "<pre>+-----------+--------------+-------------------+---------------------+-------------------+---------------------+</pre>"
            ],
            "text/plain": [
              "+-----------+--------------+-------------------+---------------------+-------------------+---------------------+"
            ]
          },
          "metadata": {}
        },
        {
          "output_type": "display_data",
          "data": {
            "text/html": [
              "<pre>| Iteration | Elapsed Time | Training Accuracy | Validation Accuracy | Training Log Loss | Validation Log Loss |</pre>"
            ],
            "text/plain": [
              "| Iteration | Elapsed Time | Training Accuracy | Validation Accuracy | Training Log Loss | Validation Log Loss |"
            ]
          },
          "metadata": {}
        },
        {
          "output_type": "display_data",
          "data": {
            "text/html": [
              "<pre>+-----------+--------------+-------------------+---------------------+-------------------+---------------------+</pre>"
            ],
            "text/plain": [
              "+-----------+--------------+-------------------+---------------------+-------------------+---------------------+"
            ]
          },
          "metadata": {}
        },
        {
          "output_type": "display_data",
          "data": {
            "text/html": [
              "<pre>| 1         | 2.355650     | 0.124502          | 0.017857            | 2.279533          | 2.401161            |</pre>"
            ],
            "text/plain": [
              "| 1         | 2.355650     | 0.124502          | 0.017857            | 2.279533          | 2.401161            |"
            ]
          },
          "metadata": {}
        },
        {
          "output_type": "display_data",
          "data": {
            "text/html": [
              "<pre>+-----------+--------------+-------------------+---------------------+-------------------+---------------------+</pre>"
            ],
            "text/plain": [
              "+-----------+--------------+-------------------+---------------------+-------------------+---------------------+"
            ]
          },
          "metadata": {}
        },
        {
          "output_type": "display_data",
          "data": {
            "text/html": [
              "<pre>Logistic regression:</pre>"
            ],
            "text/plain": [
              "Logistic regression:"
            ]
          },
          "metadata": {}
        },
        {
          "output_type": "display_data",
          "data": {
            "text/html": [
              "<pre>--------------------------------------------------------</pre>"
            ],
            "text/plain": [
              "--------------------------------------------------------"
            ]
          },
          "metadata": {}
        },
        {
          "output_type": "display_data",
          "data": {
            "text/html": [
              "<pre>Number of examples          : 13815</pre>"
            ],
            "text/plain": [
              "Number of examples          : 13815"
            ]
          },
          "metadata": {}
        },
        {
          "output_type": "display_data",
          "data": {
            "text/html": [
              "<pre>Number of classes           : 10</pre>"
            ],
            "text/plain": [
              "Number of classes           : 10"
            ]
          },
          "metadata": {}
        },
        {
          "output_type": "display_data",
          "data": {
            "text/html": [
              "<pre>Number of feature columns   : 1</pre>"
            ],
            "text/plain": [
              "Number of feature columns   : 1"
            ]
          },
          "metadata": {}
        },
        {
          "output_type": "display_data",
          "data": {
            "text/html": [
              "<pre>Number of unpacked features : 300</pre>"
            ],
            "text/plain": [
              "Number of unpacked features : 300"
            ]
          },
          "metadata": {}
        },
        {
          "output_type": "display_data",
          "data": {
            "text/html": [
              "<pre>Number of coefficients      : 2709</pre>"
            ],
            "text/plain": [
              "Number of coefficients      : 2709"
            ]
          },
          "metadata": {}
        },
        {
          "output_type": "display_data",
          "data": {
            "text/html": [
              "<pre>Starting L-BFGS</pre>"
            ],
            "text/plain": [
              "Starting L-BFGS"
            ]
          },
          "metadata": {}
        },
        {
          "output_type": "display_data",
          "data": {
            "text/html": [
              "<pre>--------------------------------------------------------</pre>"
            ],
            "text/plain": [
              "--------------------------------------------------------"
            ]
          },
          "metadata": {}
        },
        {
          "output_type": "display_data",
          "data": {
            "text/html": [
              "<pre>+-----------+----------+-----------+--------------+-------------------+---------------------+</pre>"
            ],
            "text/plain": [
              "+-----------+----------+-----------+--------------+-------------------+---------------------+"
            ]
          },
          "metadata": {}
        },
        {
          "output_type": "display_data",
          "data": {
            "text/html": [
              "<pre>| Iteration | Passes   | Step size | Elapsed Time | Training Accuracy | Validation Accuracy |</pre>"
            ],
            "text/plain": [
              "| Iteration | Passes   | Step size | Elapsed Time | Training Accuracy | Validation Accuracy |"
            ]
          },
          "metadata": {}
        },
        {
          "output_type": "display_data",
          "data": {
            "text/html": [
              "<pre>+-----------+----------+-----------+--------------+-------------------+---------------------+</pre>"
            ],
            "text/plain": [
              "+-----------+----------+-----------+--------------+-------------------+---------------------+"
            ]
          },
          "metadata": {}
        },
        {
          "output_type": "display_data",
          "data": {
            "text/html": [
              "<pre>| 0         | 4        | 0.250000  | 0.652515     | 0.102280          | 0.092033            |</pre>"
            ],
            "text/plain": [
              "| 0         | 4        | 0.250000  | 0.652515     | 0.102280          | 0.092033            |"
            ]
          },
          "metadata": {}
        },
        {
          "output_type": "display_data",
          "data": {
            "text/html": [
              "<pre>| 1         | 8        | 5.250000  | 1.492494     | 0.108433          | 0.057692            |</pre>"
            ],
            "text/plain": [
              "| 1         | 8        | 5.250000  | 1.492494     | 0.108433          | 0.057692            |"
            ]
          },
          "metadata": {}
        },
        {
          "output_type": "display_data",
          "data": {
            "text/html": [
              "<pre>| 2         | 9        | 5.250000  | 1.847961     | 0.109808          | 0.052198            |</pre>"
            ],
            "text/plain": [
              "| 2         | 9        | 5.250000  | 1.847961     | 0.109808          | 0.052198            |"
            ]
          },
          "metadata": {}
        },
        {
          "output_type": "display_data",
          "data": {
            "text/html": [
              "<pre>| 3         | 11       | 1.263489  | 2.358347     | 0.111980          | 0.049451            |</pre>"
            ],
            "text/plain": [
              "| 3         | 11       | 1.263489  | 2.358347     | 0.111980          | 0.049451            |"
            ]
          },
          "metadata": {}
        },
        {
          "output_type": "display_data",
          "data": {
            "text/html": [
              "<pre>| 4         | 13       | 0.629129  | 2.857730     | 0.113572          | 0.042582            |</pre>"
            ],
            "text/plain": [
              "| 4         | 13       | 0.629129  | 2.857730     | 0.113572          | 0.042582            |"
            ]
          },
          "metadata": {}
        },
        {
          "output_type": "display_data",
          "data": {
            "text/html": [
              "<pre>| 9         | 28       | 2.072943  | 6.078654     | 0.116830          | 0.035714            |</pre>"
            ],
            "text/plain": [
              "| 9         | 28       | 2.072943  | 6.078654     | 0.116830          | 0.035714            |"
            ]
          },
          "metadata": {}
        },
        {
          "output_type": "display_data",
          "data": {
            "text/html": [
              "<pre>+-----------+----------+-----------+--------------+-------------------+---------------------+</pre>"
            ],
            "text/plain": [
              "+-----------+----------+-----------+--------------+-------------------+---------------------+"
            ]
          },
          "metadata": {}
        },
        {
          "output_type": "stream",
          "name": "stdout",
          "text": [
            "PROGRESS: Model selection based on validation accuracy:\n",
            "PROGRESS: ---------------------------------------------\n",
            "PROGRESS: BoostedTreesClassifier          : 0.0\n",
            "PROGRESS: RandomForestClassifier          : 0.0027472527472527475\n",
            "PROGRESS: DecisionTreeClassifier          : 0.017857142857142856\n",
            "PROGRESS: LogisticClassifier              : 0.03571428571428571\n",
            "PROGRESS: ---------------------------------------------\n",
            "PROGRESS: Selecting LogisticClassifier based on validation set performance.\n"
          ]
        }
      ]
    },
    {
      "cell_type": "code",
      "metadata": {
        "id": "dQr7WWH8SMwy",
        "colab": {
          "base_uri": "https://localhost:8080/"
        },
        "outputId": "473ce6fc-87e1-4379-dee6-e795cc382a56"
      },
      "source": [
        "results = cls.evaluate(test)\n",
        "results"
      ],
      "execution_count": null,
      "outputs": [
        {
          "output_type": "execute_result",
          "data": {
            "text/plain": [
              "{'accuracy': 0.04922067268252666,\n",
              " 'auc': 0.39199107400041144,\n",
              " 'confusion_matrix': Columns:\n",
              " \ttarget_label\tint\n",
              " \tpredicted_label\tint\n",
              " \tcount\tint\n",
              " \n",
              " Rows: 98\n",
              " \n",
              " Data:\n",
              " +--------------+-----------------+-------+\n",
              " | target_label | predicted_label | count |\n",
              " +--------------+-----------------+-------+\n",
              " |      8       |        4        |   40  |\n",
              " |      9       |        4        |   44  |\n",
              " |      6       |        6        |   22  |\n",
              " |      6       |        1        |   4   |\n",
              " |      4       |        6        |   57  |\n",
              " |      8       |        10       |   53  |\n",
              " |      4       |        10       |   52  |\n",
              " |      7       |        5        |   42  |\n",
              " |      1       |        10       |   54  |\n",
              " |      10      |        6        |   48  |\n",
              " +--------------+-----------------+-------+\n",
              " [98 rows x 3 columns]\n",
              " Note: Only the head of the SFrame is printed.\n",
              " You can use print_rows(num_rows=m, num_columns=n) to print more rows and columns.,\n",
              " 'f1_score': 0.046735225803785696,\n",
              " 'log_loss': 2.353060211417382,\n",
              " 'precision': 0.052284697356765296,\n",
              " 'recall': 0.04933080543762233,\n",
              " 'roc_curve': Columns:\n",
              " \tthreshold\tfloat\n",
              " \tfpr\tfloat\n",
              " \ttpr\tfloat\n",
              " \tp\tint\n",
              " \tn\tint\n",
              " \tclass\tint\n",
              " \n",
              " Rows: 10010\n",
              " \n",
              " Data:\n",
              " +-----------+-----+-----+-----+------+-------+\n",
              " | threshold | fpr | tpr |  p  |  n   | class |\n",
              " +-----------+-----+-----+-----+------+-------+\n",
              " |    0.0    | 1.0 | 1.0 | 363 | 3294 |   0   |\n",
              " |   0.001   | 1.0 | 1.0 | 363 | 3294 |   0   |\n",
              " |   0.002   | 1.0 | 1.0 | 363 | 3294 |   0   |\n",
              " |   0.003   | 1.0 | 1.0 | 363 | 3294 |   0   |\n",
              " |   0.004   | 1.0 | 1.0 | 363 | 3294 |   0   |\n",
              " |   0.005   | 1.0 | 1.0 | 363 | 3294 |   0   |\n",
              " |   0.006   | 1.0 | 1.0 | 363 | 3294 |   0   |\n",
              " |   0.007   | 1.0 | 1.0 | 363 | 3294 |   0   |\n",
              " |   0.008   | 1.0 | 1.0 | 363 | 3294 |   0   |\n",
              " |   0.009   | 1.0 | 1.0 | 363 | 3294 |   0   |\n",
              " +-----------+-----+-----+-----+------+-------+\n",
              " [10010 rows x 6 columns]\n",
              " Note: Only the head of the SFrame is printed.\n",
              " You can use print_rows(num_rows=m, num_columns=n) to print more rows and columns.}"
            ]
          },
          "metadata": {},
          "execution_count": 21
        }
      ]
    }
  ]
}